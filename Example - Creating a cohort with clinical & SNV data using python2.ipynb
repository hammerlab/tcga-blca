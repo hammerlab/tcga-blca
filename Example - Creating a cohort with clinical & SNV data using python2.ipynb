{
 "cells": [
  {
   "cell_type": "code",
   "execution_count": 25,
   "metadata": {
    "collapsed": false
   },
   "outputs": [
    {
     "name": "stdout",
     "output_type": "stream",
     "text": [
      "The autoreload extension is already loaded. To reload it, use:\n",
      "  %reload_ext autoreload\n"
     ]
    }
   ],
   "source": [
    "%load_ext autoreload\n",
    "%autoreload 2\n",
    "%matplotlib inline\n",
    "import sys\n",
    "import pandas as pd\n",
    "import numpy as np\n",
    "import cohorts\n",
    "from cohorts.functions import missense_snv_count\n",
    "import query_tcga\n",
    "#from query_tcga import cohort, config, cache\n",
    "#from query_tcga import query_tcga as qtcga\n",
    "import logging\n",
    "logging.basicConfig(level=logging.DEBUG)"
   ]
  },
  {
   "cell_type": "markdown",
   "metadata": {},
   "source": [
    "# Creating a Cohort\n",
    "\n",
    "There are several ways to create a Cohort using [cohorts](http://github.com/hammerlab/cohorts).\n",
    "\n",
    "In our first example, we [created a Cohort from clinical data](http://github.com/jburos/tcga-blca/blob/master/Example%20-%20Creating%20a%20cohort%20from%20clinical%20data%20using%20python2.ipynb). We also showed several of the data summary methods available, using clinical covariates as exampes. \n",
    "\n",
    "But the true value of Cohorts lies in its ability to summarize various categories of genetic & molecular data and to incorporate those data into the analysis.\n",
    "\n",
    "For example, we are going to again use `TCGA` data from the `BLCA` cohort (generated using the `get_clinical_data.py` command-line script available here). \n",
    "\n",
    "\n",
    "## Part 2: Creating a Cohort with somatic mutations"
   ]
  },
  {
   "cell_type": "markdown",
   "metadata": {},
   "source": [
    "### download VCF files"
   ]
  },
  {
   "cell_type": "markdown",
   "metadata": {},
   "source": [
    "First, we will set up the values for the `query_tcga` package to download the VCF files."
   ]
  },
  {
   "cell_type": "code",
   "execution_count": 26,
   "metadata": {
    "collapsed": false
   },
   "outputs": [],
   "source": [
    "query_tcga.config.set_value(USE_CACHE=True)\n",
    "query_tcga.config.set_value(GDC_TOKEN_PATH='/Users/jacquelineburos/Downloads/gdc-user-token.2016-09-26T12-23-27-04-00.txt')\n",
    "query_tcga.config.set_value(GDC_DATA_DIR='/Users/jacquelineburos/projects/tcga-blca/data/gdc/')\n",
    "query_tcga.config.set_value(DEFAULT_SIZE=10)\n",
    "query_tcga.cache.setup_cache()"
   ]
  },
  {
   "cell_type": "markdown",
   "metadata": {},
   "source": [
    "We will use `query_tcga` to download VCF files for 30 patients in this `TCGA` project."
   ]
  },
  {
   "cell_type": "code",
   "execution_count": 27,
   "metadata": {
    "collapsed": false
   },
   "outputs": [],
   "source": [
    "vcf_files = query_tcga.samples.download_vcf_files(project_name='TCGA-BLCA', n=30)"
   ]
  },
  {
   "cell_type": "markdown",
   "metadata": {},
   "source": [
    "This function returns a list of files, plus a `.fileinfo` attribute summarizing file contents."
   ]
  },
  {
   "cell_type": "code",
   "execution_count": 54,
   "metadata": {
    "collapsed": false
   },
   "outputs": [
    {
     "data": {
      "text/html": [
       "<div>\n",
       "<table border=\"1\" class=\"dataframe\">\n",
       "  <thead>\n",
       "    <tr style=\"text-align: right;\">\n",
       "      <th></th>\n",
       "      <th>file_id</th>\n",
       "      <th>filepath</th>\n",
       "      <th>reference_name</th>\n",
       "      <th>analysis_id</th>\n",
       "      <th>case_id</th>\n",
       "      <th>data_category</th>\n",
       "      <th>data_type</th>\n",
       "      <th>file_name</th>\n",
       "      <th>samples</th>\n",
       "      <th>submitter_id</th>\n",
       "    </tr>\n",
       "  </thead>\n",
       "  <tbody>\n",
       "    <tr>\n",
       "      <th>0</th>\n",
       "      <td>04cfe9cc-e74d-4f67-9652-eb9fece22e89</td>\n",
       "      <td>data/gdc/04cfe9cc-e74d-4f67-9652-eb9fece22e89/...</td>\n",
       "      <td>GRCh38</td>\n",
       "      <td>ab2ef33d-678f-43f3-95b0-f3c02ae28025</td>\n",
       "      <td>f953dc5d-58bf-4936-b9fe-74b45e8c00e5</td>\n",
       "      <td>Simple Nucleotide Variation</td>\n",
       "      <td>Raw Simple Somatic Mutation</td>\n",
       "      <td>04cfe9cc-e74d-4f67-9652-eb9fece22e89.vcf.gz</td>\n",
       "      <td>[{u'submitter_id': u'TCGA-DK-A3IV-01A', u'tumo...</td>\n",
       "      <td>TCGA-DK-A3IV</td>\n",
       "    </tr>\n",
       "  </tbody>\n",
       "</table>\n",
       "</div>"
      ],
      "text/plain": [
       "                                file_id  \\\n",
       "0  04cfe9cc-e74d-4f67-9652-eb9fece22e89   \n",
       "\n",
       "                                            filepath reference_name  \\\n",
       "0  data/gdc/04cfe9cc-e74d-4f67-9652-eb9fece22e89/...         GRCh38   \n",
       "\n",
       "                            analysis_id                               case_id  \\\n",
       "0  ab2ef33d-678f-43f3-95b0-f3c02ae28025  f953dc5d-58bf-4936-b9fe-74b45e8c00e5   \n",
       "\n",
       "                 data_category                    data_type  \\\n",
       "0  Simple Nucleotide Variation  Raw Simple Somatic Mutation   \n",
       "\n",
       "                                     file_name  \\\n",
       "0  04cfe9cc-e74d-4f67-9652-eb9fece22e89.vcf.gz   \n",
       "\n",
       "                                             samples  submitter_id  \n",
       "0  [{u'submitter_id': u'TCGA-DK-A3IV-01A', u'tumo...  TCGA-DK-A3IV  "
      ]
     },
     "execution_count": 54,
     "metadata": {},
     "output_type": "execute_result"
    }
   ],
   "source": [
    "vcf_files.fileinfo.head(n=1)"
   ]
  },
  {
   "cell_type": "code",
   "execution_count": 65,
   "metadata": {
    "collapsed": false
   },
   "outputs": [
    {
     "data": {
      "text/html": [
       "<div>\n",
       "<table border=\"1\" class=\"dataframe\">\n",
       "  <thead>\n",
       "    <tr style=\"text-align: right;\">\n",
       "      <th></th>\n",
       "      <th>submitter_id</th>\n",
       "      <th>snv_vcf_paths</th>\n",
       "      <th>patient_id</th>\n",
       "    </tr>\n",
       "  </thead>\n",
       "  <tbody>\n",
       "    <tr>\n",
       "      <th>0</th>\n",
       "      <td>TCGA-DK-A3IV</td>\n",
       "      <td>data/gdc/04cfe9cc-e74d-4f67-9652-eb9fece22e89/...</td>\n",
       "      <td>A3IV</td>\n",
       "    </tr>\n",
       "    <tr>\n",
       "      <th>1</th>\n",
       "      <td>TCGA-GU-A42P</td>\n",
       "      <td>data/gdc/0e4ff65d-ce0c-4494-a7ab-d4fb39689bf4/...</td>\n",
       "      <td>A42P</td>\n",
       "    </tr>\n",
       "    <tr>\n",
       "      <th>2</th>\n",
       "      <td>TCGA-XF-AAMH</td>\n",
       "      <td>data/gdc/06f5a911-6cab-4b31-8daa-86830972b1c5/...</td>\n",
       "      <td>AAMH</td>\n",
       "    </tr>\n",
       "    <tr>\n",
       "      <th>3</th>\n",
       "      <td>TCGA-GC-A3I6</td>\n",
       "      <td>data/gdc/0cadfaa3-70b5-4874-9130-c6757e684329/...</td>\n",
       "      <td>A3I6</td>\n",
       "    </tr>\n",
       "    <tr>\n",
       "      <th>4</th>\n",
       "      <td>TCGA-DK-AA6Q</td>\n",
       "      <td>data/gdc/06b001a4-7660-4ae9-9a77-03d61dfb58b1/...</td>\n",
       "      <td>AA6Q</td>\n",
       "    </tr>\n",
       "  </tbody>\n",
       "</table>\n",
       "</div>"
      ],
      "text/plain": [
       "   submitter_id                                      snv_vcf_paths patient_id\n",
       "0  TCGA-DK-A3IV  data/gdc/04cfe9cc-e74d-4f67-9652-eb9fece22e89/...       A3IV\n",
       "1  TCGA-GU-A42P  data/gdc/0e4ff65d-ce0c-4494-a7ab-d4fb39689bf4/...       A42P\n",
       "2  TCGA-XF-AAMH  data/gdc/06f5a911-6cab-4b31-8daa-86830972b1c5/...       AAMH\n",
       "3  TCGA-GC-A3I6  data/gdc/0cadfaa3-70b5-4874-9130-c6757e684329/...       A3I6\n",
       "4  TCGA-DK-AA6Q  data/gdc/06b001a4-7660-4ae9-9a77-03d61dfb58b1/...       AA6Q"
      ]
     },
     "execution_count": 65,
     "metadata": {},
     "output_type": "execute_result"
    }
   ],
   "source": [
    "vcf_fileinfo = vcf_files.fileinfo.loc[:,['submitter_id','filepath']]\n",
    "vcf_fileinfo.rename(columns = {'filepath': 'snv_vcf_paths'}, inplace=True)\n",
    "vcf_fileinfo['patient_id'] = vcf_fileinfo['submitter_id'].apply(lambda x: x.split('-')[2])\n",
    "vcf_fileinfo.head()"
   ]
  },
  {
   "cell_type": "markdown",
   "metadata": {},
   "source": [
    "### load clinical data "
   ]
  },
  {
   "cell_type": "code",
   "execution_count": 111,
   "metadata": {
    "collapsed": false
   },
   "outputs": [],
   "source": [
    "clinical_data = pd.read_csv('data/clinical.csv', sep='|')\n",
    "clinical_data = clinical_data.merge(vcf_fileinfo, on='patient_id', how='left')\n",
    "assert clinical_data['snv_vcf_paths'].count()>0\n",
    "clinical_data.dropna(subset=['snv_vcf_paths'], inplace=True, axis=0)\n",
    "#clinical_data.head()"
   ]
  },
  {
   "cell_type": "code",
   "execution_count": 123,
   "metadata": {
    "collapsed": false
   },
   "outputs": [],
   "source": [
    "def prep_patient_data(row):\n",
    "    # capture key outcome data elements\n",
    "    patient_id = row['patient_id']\n",
    "    deceased = row['vital_status'] != 'Alive'\n",
    "    progressed = row['treatment_outcome_at_tcga_followup'] != 'Complete Response'\n",
    "    censor_time = float(row['last_contact_days_to'])\n",
    "    deceased_time = float(row['death_days_to'])\n",
    "    progressed_time = float(row['new_tumor_event_dx_days_to'])\n",
    "    \n",
    "    # compute age at diagnosis\n",
    "    row['age'] = (-1*row['birth_days_to'])/365.25\n",
    "    \n",
    "    # save back in 'row' as-is so that we can see raw values\n",
    "    row['progressed_time'] = progressed_time\n",
    "    row['deceased_time'] = deceased_time\n",
    "    row['censor_time'] = censor_time\n",
    "    row['progressed'] = progressed\n",
    "    row['deceased'] = deceased\n",
    "\n",
    "    # clean up censor time - a number of obs have NaN values \n",
    "    if np.isnan(censor_time):\n",
    "        censor_time = max(progressed_time, deceased_time, censor_time)\n",
    "    if censor_time > progressed_time:\n",
    "        censor_time = progressed_time\n",
    "    if censor_time > deceased_time:\n",
    "        censor_time = deceased_time\n",
    "\n",
    "    # save time-to-event-or-censor data elements\n",
    "    os = deceased_time if deceased else censor_time\n",
    "    pfs = progressed_time if progressed else os\n",
    "    \n",
    "    # again, make sure outcomes aren't NaN\n",
    "    if np.isnan(os):\n",
    "        os = censor_time\n",
    "\n",
    "    if np.isnan(pfs):\n",
    "        pfs = os\n",
    "    \n",
    "    # save transformed versions of outcome back to 'row' object for inspection\n",
    "    row['pfs'] = pfs\n",
    "    row['os'] = os\n",
    "    row['censor_time'] = censor_time\n",
    "    \n",
    "    # force progressed time to be < os \n",
    "    pfs = min(pfs, os) \n",
    "    \n",
    "    # definition of benefit for this cohort\n",
    "    benefit = pfs <= 365.25\n",
    "    \n",
    "    # these conditions are required by Cohorts\n",
    "    assert(not np.isnan(pfs))\n",
    "    assert(not np.isnan(os))\n",
    "    assert pfs <= os, 'PFS {pfs} is not <= OS {os} for Patient {patid}'.format(pfs=pfs, os=os, patid=patient_id)\n",
    "    \n",
    "    # capture snv_vcf_paths, if they exist\n",
    "    if 'snv_vcf_paths' in row.keys() and isinstance(row['snv_vcf_paths'], str):\n",
    "        snv_vcf_paths = list(row['snv_vcf_paths'])\n",
    "    else:\n",
    "        snv_vcf_paths = None\n",
    "    \n",
    "    # create our patient object\n",
    "    patient = cohorts.Patient(\n",
    "        id=str(patient_id),\n",
    "        deceased=deceased,\n",
    "        progressed=progressed,\n",
    "        os=os,\n",
    "        pfs=pfs,\n",
    "        benefit=benefit,\n",
    "        additional_data=row,\n",
    "        snv_vcf_paths=snv_vcf_paths,\n",
    "    )\n",
    "    return(patient)\n"
   ]
  },
  {
   "cell_type": "markdown",
   "metadata": {},
   "source": [
    "As in the earlier example, we will process the rows of our clinical data into a list of Patients"
   ]
  },
  {
   "cell_type": "code",
   "execution_count": 124,
   "metadata": {
    "collapsed": false
   },
   "outputs": [],
   "source": [
    "patients = []\n",
    "for (i, row) in clinical_data.iterrows():\n",
    "    patients.append(prep_patient_data(row))"
   ]
  },
  {
   "cell_type": "markdown",
   "metadata": {},
   "source": [
    "And, create a Cohort object from the list"
   ]
  },
  {
   "cell_type": "code",
   "execution_count": 127,
   "metadata": {
    "collapsed": false
   },
   "outputs": [
    {
     "ename": "TypeError",
     "evalue": "__init__() got an unexpected keyword argument 'on'",
     "output_type": "error",
     "traceback": [
      "\u001b[0;31m---------------------------------------------------------------------------\u001b[0m",
      "\u001b[0;31mTypeError\u001b[0m                                 Traceback (most recent call last)",
      "\u001b[0;32m<ipython-input-127-bc9fc8864582>\u001b[0m in \u001b[0;36m<module>\u001b[0;34m()\u001b[0m\n\u001b[0;32m----> 1\u001b[0;31m \u001b[0mblca_cohort2\u001b[0m \u001b[0;34m=\u001b[0m \u001b[0mcohorts\u001b[0m\u001b[0;34m.\u001b[0m\u001b[0mCohort\u001b[0m\u001b[0;34m(\u001b[0m\u001b[0mpatients\u001b[0m\u001b[0;34m,\u001b[0m \u001b[0mcache_dir\u001b[0m\u001b[0;34m=\u001b[0m\u001b[0;34m'data-cache2'\u001b[0m\u001b[0;34m,\u001b[0m \u001b[0mon\u001b[0m\u001b[0;34m=\u001b[0m\u001b[0;34m[\u001b[0m\u001b[0mmissense_snv_count\u001b[0m\u001b[0;34m]\u001b[0m\u001b[0;34m)\u001b[0m\u001b[0;34m\u001b[0m\u001b[0m\n\u001b[0m",
      "\u001b[0;31mTypeError\u001b[0m: __init__() got an unexpected keyword argument 'on'"
     ]
    }
   ],
   "source": [
    "blca_cohort2 = cohorts.Cohort(patients, cache_dir='data-cache2')"
   ]
  },
  {
   "cell_type": "markdown",
   "metadata": {},
   "source": [
    "## retrieve dataframe for a cohort"
   ]
  },
  {
   "cell_type": "code",
   "execution_count": 126,
   "metadata": {
    "collapsed": false
   },
   "outputs": [
    {
     "name": "stdout",
     "output_type": "stream",
     "text": [
      "Variants did not exist for patient A42C\n",
      "Variants did not exist for patient A40E\n",
      "Variants did not exist for patient A541\n",
      "Variants did not exist for patient A7PW\n",
      "Variants did not exist for patient AAN0\n",
      "Variants did not exist for patient AAMT\n",
      "Variants did not exist for patient AAN4\n",
      "Variants did not exist for patient A6TH\n",
      "Variants did not exist for patient AAMH\n",
      "Variants did not exist for patient A2LA\n",
      "Variants did not exist for patient A3MH\n",
      "Variants did not exist for patient AAML\n",
      "Variants did not exist for patient A3WX\n",
      "Variants did not exist for patient AA6Q\n",
      "Variants did not exist for patient A0S7\n",
      "Variants did not exist for patient A2OE\n",
      "Variants did not exist for patient A5KF\n",
      "Variants did not exist for patient A3IV\n",
      "Variants did not exist for patient AA76\n",
      "Variants did not exist for patient A3I6\n",
      "Variants did not exist for patient A6B5\n",
      "Variants did not exist for patient AA26\n",
      "Variants did not exist for patient A1AB\n",
      "Variants did not exist for patient A9TC\n",
      "Variants did not exist for patient A2PC\n",
      "Variants did not exist for patient A9PH\n",
      "Variants did not exist for patient AA3D\n",
      "Variants did not exist for patient A42P\n",
      "Variants did not exist for patient A3SL\n",
      "Variants did not exist for patient AATO\n"
     ]
    }
   ],
   "source": [
    "df = blca_cohort2.as_dataframe(on=[missense_snv_count])"
   ]
  },
  {
   "cell_type": "code",
   "execution_count": 117,
   "metadata": {
    "collapsed": false
   },
   "outputs": [
    {
     "name": "stdout",
     "output_type": "stream",
     "text": [
      "Variants did not exist for patient 0    b9808ef9-e917-45f9-9e0f-b86f7834b5ff\n",
      "Name: case_id, dtype: object\n",
      "Variants did not exist for patient 0    aa6142af-bad7-493c-98a0-fd070de39073\n",
      "Name: case_id, dtype: object\n",
      "Variants did not exist for patient 0    d51abc3a-a652-4b13-9a41-ce52be87218b\n",
      "Name: case_id, dtype: object\n",
      "Variants did not exist for patient 0    045fe498-6a07-41ff-9956-dc0fb0483e7f\n",
      "Name: case_id, dtype: object\n",
      "Variants did not exist for patient 0    e7e95597-ef88-4442-8c01-8d633822e7b5\n",
      "Name: case_id, dtype: object\n",
      "Variants did not exist for patient 0    ada95115-275f-4229-aa00-f298a5ff931c\n",
      "Name: case_id, dtype: object\n",
      "Variants did not exist for patient 0    b6c36037-56b1-4957-8df8-fda72b0d3c39\n",
      "Name: case_id, dtype: object\n",
      "Variants did not exist for patient 0    08d13748-0946-49a1-8eb3-5afd1deebc84\n",
      "Name: case_id, dtype: object\n",
      "Variants did not exist for patient 0    0ec37c2c-8d90-48c1-9cbc-69fe6473c980\n",
      "Name: case_id, dtype: object\n",
      "Variants did not exist for patient 0    797a71ee-372d-41e5-aeee-5ab3c4661110\n",
      "Name: case_id, dtype: object\n",
      "Variants did not exist for patient 0    b8a8d2fc-421b-4393-8d5a-946cf72cb496\n",
      "Name: case_id, dtype: object\n",
      "Variants did not exist for patient 0    329d372c-c44e-4595-b8ac-474c5a1321a5\n",
      "Name: case_id, dtype: object\n",
      "Variants did not exist for patient 0    d63c186d-add6-492e-8250-e83f46d39d00\n",
      "Name: case_id, dtype: object\n",
      "Variants did not exist for patient 0    60419f8c-92c2-4e8f-b2fa-a767d30c9d59\n",
      "Name: case_id, dtype: object\n",
      "Variants did not exist for patient 0    68bc786e-07c7-4964-bc88-5e2a8633626a\n",
      "Name: case_id, dtype: object\n",
      "Variants did not exist for patient 0    353c5fcc-9c6a-4ac6-99dc-fb4573b2ae6c\n",
      "Name: case_id, dtype: object\n",
      "Variants did not exist for patient 0    5d06cc19-8b10-4ed1-b6d4-8e044f1f8a8c\n",
      "Name: case_id, dtype: object\n",
      "Variants did not exist for patient 0    f953dc5d-58bf-4936-b9fe-74b45e8c00e5\n",
      "Name: case_id, dtype: object\n",
      "Variants did not exist for patient 0    d37b0460-efa4-4cf5-8082-f27ff2cf2f28\n",
      "Name: case_id, dtype: object\n",
      "Variants did not exist for patient 0    74cbb078-9aae-422a-a7af-dd29ebca949e\n",
      "Name: case_id, dtype: object\n",
      "Variants did not exist for patient 0    d5e8d936-40ae-4fd3-b40e-cac54763d71f\n",
      "Name: case_id, dtype: object\n",
      "Variants did not exist for patient 0    a540fcec-58a1-4e58-8e0a-8bf73b78e30d\n",
      "Name: case_id, dtype: object\n",
      "Variants did not exist for patient 0    f027d254-ec01-4882-a8a7-964ae90b7d49\n",
      "Name: case_id, dtype: object\n",
      "Variants did not exist for patient 0    6ee03f14-14ac-4cb9-bd23-b69704176301\n",
      "Name: case_id, dtype: object\n",
      "Variants did not exist for patient 0    4107ae6f-502c-4bdc-bf14-e4b3711cba38\n",
      "Name: case_id, dtype: object\n",
      "Variants did not exist for patient 0    cd10dc46-356a-420b-b3f5-9e4ed4e7ecab\n",
      "Name: case_id, dtype: object\n",
      "Variants did not exist for patient 0    e1540865-69c2-4b60-a78e-97d0ce2957dc\n",
      "Name: case_id, dtype: object\n",
      "Variants did not exist for patient 0    ff5b9238-38a7-42b4-9d44-3b8ec9913f6d\n",
      "Name: case_id, dtype: object\n",
      "Variants did not exist for patient 0    4570b6e2-d430-41ca-aab1-ce4d14c36463\n",
      "Name: case_id, dtype: object\n",
      "Variants did not exist for patient 0    cd20b968-b348-44eb-9cdb-f557af8fb468\n",
      "Name: case_id, dtype: object\n"
     ]
    },
    {
     "ename": "AttributeError",
     "evalue": "'tuple' object has no attribute 'describe'",
     "output_type": "error",
     "traceback": [
      "\u001b[0;31m---------------------------------------------------------------------------\u001b[0m",
      "\u001b[0;31mAttributeError\u001b[0m                            Traceback (most recent call last)",
      "\u001b[0;32m<ipython-input-117-819b804660b9>\u001b[0m in \u001b[0;36m<module>\u001b[0;34m()\u001b[0m\n\u001b[1;32m      1\u001b[0m \u001b[0mdf\u001b[0m \u001b[0;34m=\u001b[0m \u001b[0mblca_cohort2\u001b[0m\u001b[0;34m.\u001b[0m\u001b[0mas_dataframe\u001b[0m\u001b[0;34m(\u001b[0m\u001b[0;34m[\u001b[0m\u001b[0mmissense_snv_count\u001b[0m\u001b[0;34m]\u001b[0m\u001b[0;34m)\u001b[0m\u001b[0;34m\u001b[0m\u001b[0m\n\u001b[0;32m----> 2\u001b[0;31m \u001b[0mdf\u001b[0m\u001b[0;34m.\u001b[0m\u001b[0mdescribe\u001b[0m\u001b[0;34m(\u001b[0m\u001b[0;34m)\u001b[0m\u001b[0;34m\u001b[0m\u001b[0m\n\u001b[0m",
      "\u001b[0;31mAttributeError\u001b[0m: 'tuple' object has no attribute 'describe'"
     ]
    }
   ],
   "source": [
    "df = blca_cohort2.as_dataframe([missense_snv_count])\n",
    "df.describe()"
   ]
  },
  {
   "cell_type": "markdown",
   "metadata": {
    "collapsed": false
   },
   "source": [
    "## plot survival"
   ]
  },
  {
   "cell_type": "code",
   "execution_count": null,
   "metadata": {
    "collapsed": false
   },
   "outputs": [],
   "source": [
    "blca_cohort.plot_survival(on='tobacco_smoking_history_indicator')"
   ]
  },
  {
   "cell_type": "code",
   "execution_count": null,
   "metadata": {
    "collapsed": false
   },
   "outputs": [],
   "source": [
    "blca_cohort.plot_survival(on='tobacco_smoking_history_indicator', threshold=1)"
   ]
  },
  {
   "cell_type": "code",
   "execution_count": null,
   "metadata": {
    "collapsed": false
   },
   "outputs": [],
   "source": [
    "blca_cohort.plot_survival(on='tobacco_smoking_history_indicator', threshold=1, how='pfs')"
   ]
  },
  {
   "cell_type": "markdown",
   "metadata": {},
   "source": [
    "You can also pass a function to the `plot_survival` method. \n",
    "\n",
    "For example, let's say we wanted to summarized survival according to the tumor grade.\n",
    "\n",
    "First, we create a function to classify our tumor type:\n"
   ]
  },
  {
   "cell_type": "code",
   "execution_count": null,
   "metadata": {
    "collapsed": true
   },
   "outputs": [],
   "source": [
    "def high_grade_tumor(row):\n",
    "    return row['tumor_grade'] == 'High Grade'"
   ]
  },
  {
   "cell_type": "markdown",
   "metadata": {},
   "source": [
    "We then pass this function to the `plot_survival` method. \n",
    "\n",
    "(Behind the scenes, the function will be applied to each `row` of our dataframe & the result will be summarized.)"
   ]
  },
  {
   "cell_type": "code",
   "execution_count": null,
   "metadata": {
    "collapsed": false
   },
   "outputs": [],
   "source": [
    "blca_cohort.plot_survival(on=high_grade_tumor, how='pfs')"
   ]
  },
  {
   "cell_type": "markdown",
   "metadata": {},
   "source": [
    "## Summarizing somatic mutation burden"
   ]
  },
  {
   "cell_type": "code",
   "execution_count": 116,
   "metadata": {
    "collapsed": false
   },
   "outputs": [
    {
     "name": "stdout",
     "output_type": "stream",
     "text": [
      "Variants did not exist for patient 0    b9808ef9-e917-45f9-9e0f-b86f7834b5ff\n",
      "Name: case_id, dtype: object\n",
      "Variants did not exist for patient 0    aa6142af-bad7-493c-98a0-fd070de39073\n",
      "Name: case_id, dtype: object\n",
      "Variants did not exist for patient 0    d51abc3a-a652-4b13-9a41-ce52be87218b\n",
      "Name: case_id, dtype: object\n",
      "Variants did not exist for patient 0    045fe498-6a07-41ff-9956-dc0fb0483e7f\n",
      "Name: case_id, dtype: object\n",
      "Variants did not exist for patient 0    e7e95597-ef88-4442-8c01-8d633822e7b5\n",
      "Name: case_id, dtype: object\n",
      "Variants did not exist for patient 0    ada95115-275f-4229-aa00-f298a5ff931c\n",
      "Name: case_id, dtype: object\n",
      "Variants did not exist for patient 0    b6c36037-56b1-4957-8df8-fda72b0d3c39\n",
      "Name: case_id, dtype: object\n",
      "Variants did not exist for patient 0    08d13748-0946-49a1-8eb3-5afd1deebc84\n",
      "Name: case_id, dtype: object\n",
      "Variants did not exist for patient 0    0ec37c2c-8d90-48c1-9cbc-69fe6473c980\n",
      "Name: case_id, dtype: object\n",
      "Variants did not exist for patient 0    797a71ee-372d-41e5-aeee-5ab3c4661110\n",
      "Name: case_id, dtype: object\n",
      "Variants did not exist for patient 0    b8a8d2fc-421b-4393-8d5a-946cf72cb496\n",
      "Name: case_id, dtype: object\n",
      "Variants did not exist for patient 0    329d372c-c44e-4595-b8ac-474c5a1321a5\n",
      "Name: case_id, dtype: object\n",
      "Variants did not exist for patient 0    d63c186d-add6-492e-8250-e83f46d39d00\n",
      "Name: case_id, dtype: object\n",
      "Variants did not exist for patient 0    60419f8c-92c2-4e8f-b2fa-a767d30c9d59\n",
      "Name: case_id, dtype: object\n",
      "Variants did not exist for patient 0    68bc786e-07c7-4964-bc88-5e2a8633626a\n",
      "Name: case_id, dtype: object\n",
      "Variants did not exist for patient 0    353c5fcc-9c6a-4ac6-99dc-fb4573b2ae6c\n",
      "Name: case_id, dtype: object\n",
      "Variants did not exist for patient 0    5d06cc19-8b10-4ed1-b6d4-8e044f1f8a8c\n",
      "Name: case_id, dtype: object\n",
      "Variants did not exist for patient 0    f953dc5d-58bf-4936-b9fe-74b45e8c00e5\n",
      "Name: case_id, dtype: object\n",
      "Variants did not exist for patient 0    d37b0460-efa4-4cf5-8082-f27ff2cf2f28\n",
      "Name: case_id, dtype: object\n",
      "Variants did not exist for patient 0    74cbb078-9aae-422a-a7af-dd29ebca949e\n",
      "Name: case_id, dtype: object\n",
      "Variants did not exist for patient 0    d5e8d936-40ae-4fd3-b40e-cac54763d71f\n",
      "Name: case_id, dtype: object\n",
      "Variants did not exist for patient 0    a540fcec-58a1-4e58-8e0a-8bf73b78e30d\n",
      "Name: case_id, dtype: object\n",
      "Variants did not exist for patient 0    f027d254-ec01-4882-a8a7-964ae90b7d49\n",
      "Name: case_id, dtype: object\n",
      "Variants did not exist for patient 0    6ee03f14-14ac-4cb9-bd23-b69704176301\n",
      "Name: case_id, dtype: object\n",
      "Variants did not exist for patient 0    4107ae6f-502c-4bdc-bf14-e4b3711cba38\n",
      "Name: case_id, dtype: object\n",
      "Variants did not exist for patient 0    cd10dc46-356a-420b-b3f5-9e4ed4e7ecab\n",
      "Name: case_id, dtype: object\n",
      "Variants did not exist for patient 0    e1540865-69c2-4b60-a78e-97d0ce2957dc\n",
      "Name: case_id, dtype: object\n",
      "Variants did not exist for patient 0    ff5b9238-38a7-42b4-9d44-3b8ec9913f6d\n",
      "Name: case_id, dtype: object\n",
      "Variants did not exist for patient 0    4570b6e2-d430-41ca-aab1-ce4d14c36463\n",
      "Name: case_id, dtype: object\n",
      "Variants did not exist for patient 0    cd20b968-b348-44eb-9cdb-f557af8fb468\n",
      "Name: case_id, dtype: object\n",
      "Missing missense_snv_count for 30 patients: from 30 to 0\n"
     ]
    },
    {
     "ename": "IndexError",
     "evalue": "list index out of range",
     "output_type": "error",
     "traceback": [
      "\u001b[0;31m---------------------------------------------------------------------------\u001b[0m",
      "\u001b[0;31mIndexError\u001b[0m                                Traceback (most recent call last)",
      "\u001b[0;32m<ipython-input-116-e8461b6aa9f7>\u001b[0m in \u001b[0;36m<module>\u001b[0;34m()\u001b[0m\n\u001b[0;32m----> 1\u001b[0;31m \u001b[0mblca_cohort2\u001b[0m\u001b[0;34m.\u001b[0m\u001b[0mplot_survival\u001b[0m\u001b[0;34m(\u001b[0m\u001b[0mmissense_snv_count\u001b[0m\u001b[0;34m)\u001b[0m\u001b[0;34m\u001b[0m\u001b[0m\n\u001b[0m",
      "\u001b[0;32m/Users/jacquelineburos/anaconda3/envs/python27/lib/python2.7/site-packages/cohorts/cohort.pyc\u001b[0m in \u001b[0;36mplot_survival\u001b[0;34m(self, on, col, how, survival_units, ax, ci_show, with_condition_color, no_condition_color, with_condition_label, no_condition_label, threshold, **kwargs)\u001b[0m\n\u001b[1;32m   1115\u001b[0m             \u001b[0mno_condition_color\u001b[0m\u001b[0;34m=\u001b[0m\u001b[0mno_condition_color\u001b[0m\u001b[0;34m,\u001b[0m\u001b[0;34m\u001b[0m\u001b[0m\n\u001b[1;32m   1116\u001b[0m             \u001b[0mwith_condition_label\u001b[0m\u001b[0;34m=\u001b[0m\u001b[0mwith_condition_label\u001b[0m\u001b[0;34m,\u001b[0m\u001b[0;34m\u001b[0m\u001b[0m\n\u001b[0;32m-> 1117\u001b[0;31m             \u001b[0mno_condition_label\u001b[0m\u001b[0;34m=\u001b[0m\u001b[0mno_condition_label\u001b[0m\u001b[0;34m\u001b[0m\u001b[0m\n\u001b[0m\u001b[1;32m   1118\u001b[0m         )\n\u001b[1;32m   1119\u001b[0m         \u001b[0;32mreturn\u001b[0m \u001b[0mresults\u001b[0m\u001b[0;34m\u001b[0m\u001b[0m\n",
      "\u001b[0;32m/Users/jacquelineburos/anaconda3/envs/python27/lib/python2.7/site-packages/cohorts/survival.pyc\u001b[0m in \u001b[0;36mplot_kmf\u001b[0;34m(df, condition_col, censor_col, survival_col, threshold, title, xlabel, ylabel, ax, with_condition_color, no_condition_color, with_condition_label, no_condition_label, ci_show, print_as_title)\u001b[0m\n\u001b[1;32m     69\u001b[0m         \u001b[0;32mif\u001b[0m \u001b[0mis_median\u001b[0m\u001b[0;34m:\u001b[0m\u001b[0;34m\u001b[0m\u001b[0m\n\u001b[1;32m     70\u001b[0m             \u001b[0mthreshold\u001b[0m \u001b[0;34m=\u001b[0m \u001b[0mdf\u001b[0m\u001b[0;34m[\u001b[0m\u001b[0mcondition_col\u001b[0m\u001b[0;34m]\u001b[0m\u001b[0;34m.\u001b[0m\u001b[0mmedian\u001b[0m\u001b[0;34m(\u001b[0m\u001b[0;34m)\u001b[0m\u001b[0;34m\u001b[0m\u001b[0m\n\u001b[0;32m---> 71\u001b[0;31m         \u001b[0mlabel_suffix\u001b[0m \u001b[0;34m=\u001b[0m \u001b[0mfloat_str\u001b[0m\u001b[0;34m(\u001b[0m\u001b[0mthreshold\u001b[0m\u001b[0;34m)\u001b[0m\u001b[0;34m\u001b[0m\u001b[0m\n\u001b[0m\u001b[1;32m     72\u001b[0m         \u001b[0mcondition\u001b[0m \u001b[0;34m=\u001b[0m \u001b[0mdf\u001b[0m\u001b[0;34m[\u001b[0m\u001b[0mcondition_col\u001b[0m\u001b[0;34m]\u001b[0m \u001b[0;34m>\u001b[0m \u001b[0mthreshold\u001b[0m\u001b[0;34m\u001b[0m\u001b[0m\n\u001b[1;32m     73\u001b[0m         \u001b[0mdefault_label_no_condition\u001b[0m \u001b[0;34m=\u001b[0m \u001b[0;34m\"%s ≤ %s\"\u001b[0m \u001b[0;34m%\u001b[0m \u001b[0;34m(\u001b[0m\u001b[0mcondition_col\u001b[0m\u001b[0;34m,\u001b[0m \u001b[0mlabel_suffix\u001b[0m\u001b[0;34m)\u001b[0m\u001b[0;34m\u001b[0m\u001b[0m\n",
      "\u001b[0;32m/Users/jacquelineburos/anaconda3/envs/python27/lib/python2.7/site-packages/cohorts/rounding.pyc\u001b[0m in \u001b[0;36mfloat_str\u001b[0;34m(f, min_digits, max_digits)\u001b[0m\n\u001b[1;32m     32\u001b[0m         \u001b[0;32mreturn\u001b[0m \u001b[0mstr\u001b[0m\u001b[0;34m(\u001b[0m\u001b[0mround_float\u001b[0m\u001b[0;34m(\u001b[0m\u001b[0mf\u001b[0m\u001b[0;34m,\u001b[0m \u001b[0mmin_digits\u001b[0m\u001b[0;34m)\u001b[0m\u001b[0;34m)\u001b[0m\u001b[0;34m\u001b[0m\u001b[0m\n\u001b[1;32m     33\u001b[0m     \u001b[0mstart_str\u001b[0m \u001b[0;34m=\u001b[0m \u001b[0mstr\u001b[0m\u001b[0;34m(\u001b[0m\u001b[0mround_float\u001b[0m\u001b[0;34m(\u001b[0m\u001b[0mf\u001b[0m\u001b[0;34m,\u001b[0m \u001b[0mmax_digits\u001b[0m\u001b[0;34m)\u001b[0m\u001b[0;34m)\u001b[0m\u001b[0;34m\u001b[0m\u001b[0m\n\u001b[0;32m---> 34\u001b[0;31m     \u001b[0mdigits\u001b[0m \u001b[0;34m=\u001b[0m \u001b[0mstart_str\u001b[0m\u001b[0;34m.\u001b[0m\u001b[0msplit\u001b[0m\u001b[0;34m(\u001b[0m\u001b[0;34m\".\"\u001b[0m\u001b[0;34m)\u001b[0m\u001b[0;34m[\u001b[0m\u001b[0;36m1\u001b[0m\u001b[0;34m]\u001b[0m\u001b[0;34m\u001b[0m\u001b[0m\n\u001b[0m\u001b[1;32m     35\u001b[0m     \u001b[0mnon_zero_indices\u001b[0m \u001b[0;34m=\u001b[0m \u001b[0;34m[\u001b[0m\u001b[0;34m]\u001b[0m\u001b[0;34m\u001b[0m\u001b[0m\n\u001b[1;32m     36\u001b[0m     \u001b[0;32mfor\u001b[0m \u001b[0mi\u001b[0m\u001b[0;34m,\u001b[0m \u001b[0mdigit\u001b[0m \u001b[0;32min\u001b[0m \u001b[0menumerate\u001b[0m\u001b[0;34m(\u001b[0m\u001b[0mdigits\u001b[0m\u001b[0;34m)\u001b[0m\u001b[0;34m:\u001b[0m\u001b[0;34m\u001b[0m\u001b[0m\n",
      "\u001b[0;31mIndexError\u001b[0m: list index out of range"
     ]
    }
   ],
   "source": [
    "blca_cohort2.plot_survival(missense_snv_count)"
   ]
  },
  {
   "cell_type": "code",
   "execution_count": null,
   "metadata": {
    "collapsed": true
   },
   "outputs": [],
   "source": []
  }
 ],
 "metadata": {
  "kernelspec": {
   "display_name": "Python 2",
   "language": "python",
   "name": "python2"
  },
  "language_info": {
   "codemirror_mode": {
    "name": "ipython",
    "version": 2
   },
   "file_extension": ".py",
   "mimetype": "text/x-python",
   "name": "python",
   "nbconvert_exporter": "python",
   "pygments_lexer": "ipython2",
   "version": "2.7.12"
  }
 },
 "nbformat": 4,
 "nbformat_minor": 0
}
