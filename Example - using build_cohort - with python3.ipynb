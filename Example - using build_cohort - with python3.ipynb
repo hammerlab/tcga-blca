{
 "cells": [
  {
   "cell_type": "code",
   "execution_count": 1,
   "metadata": {
    "collapsed": false
   },
   "outputs": [
    {
     "name": "stdout",
     "output_type": "stream",
     "text": [
      "The autoreload extension is already loaded. To reload it, use:\n",
      "  %reload_ext autoreload\n"
     ]
    },
    {
     "ename": "ImportError",
     "evalue": "No module named 'log_with'",
     "output_type": "error",
     "traceback": [
      "\u001b[0;31m---------------------------------------------------------------------------\u001b[0m",
      "\u001b[0;31mImportError\u001b[0m                               Traceback (most recent call last)",
      "\u001b[0;32m<ipython-input-1-896c2a94ba35>\u001b[0m in \u001b[0;36m<module>\u001b[0;34m()\u001b[0m\n\u001b[1;32m      4\u001b[0m \u001b[0;31m#!pip install git+git://github.com/hammerlab/cohorts\u001b[0m\u001b[0;34m\u001b[0m\u001b[0;34m\u001b[0m\u001b[0m\n\u001b[1;32m      5\u001b[0m \u001b[0;32mimport\u001b[0m \u001b[0mpandas\u001b[0m \u001b[0;32mas\u001b[0m \u001b[0mpd\u001b[0m\u001b[0;34m\u001b[0m\u001b[0m\n\u001b[0;32m----> 6\u001b[0;31m \u001b[0;32mfrom\u001b[0m \u001b[0mquery_tcga\u001b[0m \u001b[0;32mimport\u001b[0m \u001b[0mcohort\u001b[0m\u001b[0;34m\u001b[0m\u001b[0m\n\u001b[0m\u001b[1;32m      7\u001b[0m \u001b[0;32mimport\u001b[0m \u001b[0mcohorts\u001b[0m\u001b[0;34m\u001b[0m\u001b[0m\n\u001b[1;32m      8\u001b[0m \u001b[0;32mfrom\u001b[0m \u001b[0mcohorts\u001b[0m\u001b[0;34m.\u001b[0m\u001b[0mfunctions\u001b[0m \u001b[0;32mimport\u001b[0m \u001b[0mmissense_snv_count\u001b[0m\u001b[0;34m\u001b[0m\u001b[0m\n",
      "\u001b[0;32m/Users/jacquelineburos/projects/tcga-blca/query_tcga/cohort.py\u001b[0m in \u001b[0;36m<module>\u001b[0;34m()\u001b[0m\n\u001b[1;32m      1\u001b[0m \u001b[0;32mimport\u001b[0m \u001b[0mcohorts\u001b[0m\u001b[0;34m\u001b[0m\u001b[0m\n\u001b[0;32m----> 2\u001b[0;31m \u001b[0;32mfrom\u001b[0m \u001b[0mquery_tcga\u001b[0m \u001b[0;32mimport\u001b[0m \u001b[0mquery_tcga\u001b[0m \u001b[0;32mas\u001b[0m \u001b[0mqt\u001b[0m\u001b[0;34m\u001b[0m\u001b[0m\n\u001b[0m\u001b[1;32m      3\u001b[0m \u001b[0;32mfrom\u001b[0m \u001b[0mquery_tcga\u001b[0m \u001b[0;32mimport\u001b[0m \u001b[0msamples\u001b[0m\u001b[0;34m\u001b[0m\u001b[0m\n\u001b[1;32m      4\u001b[0m \u001b[0;32mfrom\u001b[0m \u001b[0mquery_tcga\u001b[0m \u001b[0;32mimport\u001b[0m \u001b[0mhelpers\u001b[0m\u001b[0;34m\u001b[0m\u001b[0m\n\u001b[1;32m      5\u001b[0m \u001b[0;32mimport\u001b[0m \u001b[0mnumpy\u001b[0m \u001b[0;32mas\u001b[0m \u001b[0mnp\u001b[0m\u001b[0;34m\u001b[0m\u001b[0m\n",
      "\u001b[0;32m/Users/jacquelineburos/projects/tcga-blca/query_tcga/query_tcga.py\u001b[0m in \u001b[0;36m<module>\u001b[0;34m()\u001b[0m\n\u001b[1;32m      9\u001b[0m \u001b[0;32mimport\u001b[0m \u001b[0msys\u001b[0m\u001b[0;34m\u001b[0m\u001b[0m\n\u001b[1;32m     10\u001b[0m \u001b[0msys\u001b[0m\u001b[0;34m.\u001b[0m\u001b[0mpath\u001b[0m\u001b[0;34m.\u001b[0m\u001b[0mappend\u001b[0m\u001b[0;34m(\u001b[0m\u001b[0;34m'~/projects/tcga-blca/query_tcga'\u001b[0m\u001b[0;34m)\u001b[0m\u001b[0;34m\u001b[0m\u001b[0m\n\u001b[0;32m---> 11\u001b[0;31m \u001b[0;32mfrom\u001b[0m \u001b[0mlog_with\u001b[0m \u001b[0;32mimport\u001b[0m \u001b[0mlog_with\u001b[0m\u001b[0;34m\u001b[0m\u001b[0m\n\u001b[0m\u001b[1;32m     12\u001b[0m \u001b[0;32mfrom\u001b[0m \u001b[0mquery_tcga\u001b[0m \u001b[0;32mimport\u001b[0m \u001b[0mdefaults\u001b[0m\u001b[0;34m\u001b[0m\u001b[0m\n\u001b[1;32m     13\u001b[0m \u001b[0;32mfrom\u001b[0m \u001b[0mquery_tcga\u001b[0m\u001b[0;34m.\u001b[0m\u001b[0mdefaults\u001b[0m \u001b[0;32mimport\u001b[0m \u001b[0mGDC_API_ENDPOINT\u001b[0m\u001b[0;34m\u001b[0m\u001b[0m\n",
      "\u001b[0;31mImportError\u001b[0m: No module named 'log_with'"
     ]
    }
   ],
   "source": [
    "%load_ext autoreload\n",
    "%autoreload 2\n",
    "%matplotlib inline\n",
    "#!pip install git+git://github.com/hammerlab/cohorts\n",
    "import pandas as pd\n",
    "from query_tcga import cohort\n",
    "import cohorts\n",
    "from cohorts.functions import missense_snv_count"
   ]
  },
  {
   "cell_type": "code",
   "execution_count": 3,
   "metadata": {
    "collapsed": false
   },
   "outputs": [
    {
     "name": "stdout",
     "output_type": "stream",
     "text": [
      "{'dataframe_hash': 8814453162628095830,\n",
      " 'provenance_file_summary': {'cohorts': '0.2.0+6.g205397b',\n",
      "                             'isovar': '0.0.6',\n",
      "                             'mhctools': '0.2.3',\n",
      "                             'numpy': '1.11.1',\n",
      "                             'pandas': '0.18.1',\n",
      "                             'pyensembl': '0.9.7',\n",
      "                             'scipy': '0.17.0',\n",
      "                             'topiary': '0.0.21',\n",
      "                             'varcode': '0.4.15'}}\n"
     ]
    }
   ],
   "source": [
    "blca_patients = cohort.prep_cohort_patients(project_name='TCGA-BLCA')\n",
    "blca_cohort = cohort.prep_cohort(patients=blca_patients)"
   ]
  },
  {
   "cell_type": "markdown",
   "metadata": {},
   "source": [
    "## retrieve dataframe for a cohort"
   ]
  },
  {
   "cell_type": "code",
   "execution_count": 4,
   "metadata": {
    "collapsed": false
   },
   "outputs": [
    {
     "name": "stderr",
     "output_type": "stream",
     "text": [
      "/Users/jacquelineburos/anaconda3/lib/python3.5/site-packages/numpy/lib/function_base.py:3834: RuntimeWarning: Invalid value encountered in percentile\n",
      "  RuntimeWarning)\n"
     ]
    },
    {
     "data": {
      "text/html": [
       "<div>\n",
       "<table border=\"1\" class=\"dataframe\">\n",
       "  <thead>\n",
       "    <tr style=\"text-align: right;\">\n",
       "      <th></th>\n",
       "      <th>age_at_diagnosis</th>\n",
       "      <th>bcg_complete_response_months</th>\n",
       "      <th>birth_days_to</th>\n",
       "      <th>course_number</th>\n",
       "      <th>death_days_to</th>\n",
       "      <th>ecog_score</th>\n",
       "      <th>form_completion_day</th>\n",
       "      <th>form_completion_month</th>\n",
       "      <th>form_completion_year</th>\n",
       "      <th>gleason_score</th>\n",
       "      <th>...</th>\n",
       "      <th>tobacco_smoking_history_indicator</th>\n",
       "      <th>tobacco_smoking_pack_years_smoked</th>\n",
       "      <th>tobacco_smoking_year_stopped</th>\n",
       "      <th>total_dose</th>\n",
       "      <th>weight_kg_at_diagnosis</th>\n",
       "      <th>progressed_time</th>\n",
       "      <th>deceased_time</th>\n",
       "      <th>censor_time</th>\n",
       "      <th>pfs</th>\n",
       "      <th>os</th>\n",
       "    </tr>\n",
       "  </thead>\n",
       "  <tbody>\n",
       "    <tr>\n",
       "      <th>count</th>\n",
       "      <td>19.000000</td>\n",
       "      <td>5.000000</td>\n",
       "      <td>411.000000</td>\n",
       "      <td>3.0</td>\n",
       "      <td>180.000000</td>\n",
       "      <td>101.000000</td>\n",
       "      <td>412.000000</td>\n",
       "      <td>412.000000</td>\n",
       "      <td>412.000000</td>\n",
       "      <td>85.000000</td>\n",
       "      <td>...</td>\n",
       "      <td>399.000000</td>\n",
       "      <td>224.000000</td>\n",
       "      <td>174.000000</td>\n",
       "      <td>3.000000</td>\n",
       "      <td>369.000000</td>\n",
       "      <td>144.000000</td>\n",
       "      <td>180.000000</td>\n",
       "      <td>356.000000</td>\n",
       "      <td>412.000000</td>\n",
       "      <td>412.000000</td>\n",
       "    </tr>\n",
       "    <tr>\n",
       "      <th>mean</th>\n",
       "      <td>69.789474</td>\n",
       "      <td>15.800000</td>\n",
       "      <td>-25037.194647</td>\n",
       "      <td>1.0</td>\n",
       "      <td>552.844444</td>\n",
       "      <td>0.871287</td>\n",
       "      <td>16.245146</td>\n",
       "      <td>6.645631</td>\n",
       "      <td>2013.713592</td>\n",
       "      <td>6.352941</td>\n",
       "      <td>...</td>\n",
       "      <td>2.458647</td>\n",
       "      <td>39.038616</td>\n",
       "      <td>1989.045977</td>\n",
       "      <td>876.333333</td>\n",
       "      <td>80.979024</td>\n",
       "      <td>538.145833</td>\n",
       "      <td>552.844444</td>\n",
       "      <td>724.337079</td>\n",
       "      <td>712.223301</td>\n",
       "      <td>750.766990</td>\n",
       "    </tr>\n",
       "    <tr>\n",
       "      <th>std</th>\n",
       "      <td>12.523662</td>\n",
       "      <td>10.009995</td>\n",
       "      <td>3866.484080</td>\n",
       "      <td>0.0</td>\n",
       "      <td>531.947059</td>\n",
       "      <td>0.770238</td>\n",
       "      <td>8.110886</td>\n",
       "      <td>3.295748</td>\n",
       "      <td>1.034918</td>\n",
       "      <td>0.611514</td>\n",
       "      <td>...</td>\n",
       "      <td>1.161644</td>\n",
       "      <td>52.926227</td>\n",
       "      <td>16.714127</td>\n",
       "      <td>649.138147</td>\n",
       "      <td>23.735788</td>\n",
       "      <td>632.722235</td>\n",
       "      <td>531.947059</td>\n",
       "      <td>831.200983</td>\n",
       "      <td>798.099402</td>\n",
       "      <td>795.075154</td>\n",
       "    </tr>\n",
       "    <tr>\n",
       "      <th>min</th>\n",
       "      <td>48.000000</td>\n",
       "      <td>6.000000</td>\n",
       "      <td>-32918.000000</td>\n",
       "      <td>1.0</td>\n",
       "      <td>19.000000</td>\n",
       "      <td>0.000000</td>\n",
       "      <td>1.000000</td>\n",
       "      <td>1.000000</td>\n",
       "      <td>2010.000000</td>\n",
       "      <td>5.000000</td>\n",
       "      <td>...</td>\n",
       "      <td>1.000000</td>\n",
       "      <td>0.150000</td>\n",
       "      <td>1946.000000</td>\n",
       "      <td>129.000000</td>\n",
       "      <td>41.000000</td>\n",
       "      <td>16.000000</td>\n",
       "      <td>19.000000</td>\n",
       "      <td>-64.000000</td>\n",
       "      <td>-64.000000</td>\n",
       "      <td>-64.000000</td>\n",
       "    </tr>\n",
       "    <tr>\n",
       "      <th>25%</th>\n",
       "      <td>NaN</td>\n",
       "      <td>NaN</td>\n",
       "      <td>NaN</td>\n",
       "      <td>NaN</td>\n",
       "      <td>NaN</td>\n",
       "      <td>NaN</td>\n",
       "      <td>10.000000</td>\n",
       "      <td>4.000000</td>\n",
       "      <td>2013.000000</td>\n",
       "      <td>NaN</td>\n",
       "      <td>...</td>\n",
       "      <td>NaN</td>\n",
       "      <td>NaN</td>\n",
       "      <td>NaN</td>\n",
       "      <td>NaN</td>\n",
       "      <td>NaN</td>\n",
       "      <td>NaN</td>\n",
       "      <td>NaN</td>\n",
       "      <td>NaN</td>\n",
       "      <td>216.000000</td>\n",
       "      <td>261.750000</td>\n",
       "    </tr>\n",
       "    <tr>\n",
       "      <th>50%</th>\n",
       "      <td>NaN</td>\n",
       "      <td>NaN</td>\n",
       "      <td>NaN</td>\n",
       "      <td>NaN</td>\n",
       "      <td>NaN</td>\n",
       "      <td>NaN</td>\n",
       "      <td>15.000000</td>\n",
       "      <td>7.000000</td>\n",
       "      <td>2014.000000</td>\n",
       "      <td>NaN</td>\n",
       "      <td>...</td>\n",
       "      <td>NaN</td>\n",
       "      <td>NaN</td>\n",
       "      <td>NaN</td>\n",
       "      <td>NaN</td>\n",
       "      <td>NaN</td>\n",
       "      <td>NaN</td>\n",
       "      <td>NaN</td>\n",
       "      <td>NaN</td>\n",
       "      <td>432.500000</td>\n",
       "      <td>485.500000</td>\n",
       "    </tr>\n",
       "    <tr>\n",
       "      <th>75%</th>\n",
       "      <td>NaN</td>\n",
       "      <td>NaN</td>\n",
       "      <td>NaN</td>\n",
       "      <td>NaN</td>\n",
       "      <td>NaN</td>\n",
       "      <td>NaN</td>\n",
       "      <td>23.000000</td>\n",
       "      <td>9.000000</td>\n",
       "      <td>2014.000000</td>\n",
       "      <td>NaN</td>\n",
       "      <td>...</td>\n",
       "      <td>NaN</td>\n",
       "      <td>NaN</td>\n",
       "      <td>NaN</td>\n",
       "      <td>NaN</td>\n",
       "      <td>NaN</td>\n",
       "      <td>NaN</td>\n",
       "      <td>NaN</td>\n",
       "      <td>NaN</td>\n",
       "      <td>834.500000</td>\n",
       "      <td>861.750000</td>\n",
       "    </tr>\n",
       "    <tr>\n",
       "      <th>max</th>\n",
       "      <td>90.000000</td>\n",
       "      <td>27.000000</td>\n",
       "      <td>-12557.000000</td>\n",
       "      <td>1.0</td>\n",
       "      <td>3183.000000</td>\n",
       "      <td>4.000000</td>\n",
       "      <td>31.000000</td>\n",
       "      <td>12.000000</td>\n",
       "      <td>2015.000000</td>\n",
       "      <td>9.000000</td>\n",
       "      <td>...</td>\n",
       "      <td>5.000000</td>\n",
       "      <td>730.000000</td>\n",
       "      <td>2013.000000</td>\n",
       "      <td>1300.000000</td>\n",
       "      <td>292.000000</td>\n",
       "      <td>4907.000000</td>\n",
       "      <td>3183.000000</td>\n",
       "      <td>4967.000000</td>\n",
       "      <td>4967.000000</td>\n",
       "      <td>4967.000000</td>\n",
       "    </tr>\n",
       "  </tbody>\n",
       "</table>\n",
       "<p>8 rows × 40 columns</p>\n",
       "</div>"
      ],
      "text/plain": [
       "       age_at_diagnosis  bcg_complete_response_months  birth_days_to  \\\n",
       "count         19.000000                      5.000000     411.000000   \n",
       "mean          69.789474                     15.800000  -25037.194647   \n",
       "std           12.523662                     10.009995    3866.484080   \n",
       "min           48.000000                      6.000000  -32918.000000   \n",
       "25%                 NaN                           NaN            NaN   \n",
       "50%                 NaN                           NaN            NaN   \n",
       "75%                 NaN                           NaN            NaN   \n",
       "max           90.000000                     27.000000  -12557.000000   \n",
       "\n",
       "       course_number  death_days_to  ecog_score  form_completion_day  \\\n",
       "count            3.0     180.000000  101.000000           412.000000   \n",
       "mean             1.0     552.844444    0.871287            16.245146   \n",
       "std              0.0     531.947059    0.770238             8.110886   \n",
       "min              1.0      19.000000    0.000000             1.000000   \n",
       "25%              NaN            NaN         NaN            10.000000   \n",
       "50%              NaN            NaN         NaN            15.000000   \n",
       "75%              NaN            NaN         NaN            23.000000   \n",
       "max              1.0    3183.000000    4.000000            31.000000   \n",
       "\n",
       "       form_completion_month  form_completion_year  gleason_score  \\\n",
       "count             412.000000            412.000000      85.000000   \n",
       "mean                6.645631           2013.713592       6.352941   \n",
       "std                 3.295748              1.034918       0.611514   \n",
       "min                 1.000000           2010.000000       5.000000   \n",
       "25%                 4.000000           2013.000000            NaN   \n",
       "50%                 7.000000           2014.000000            NaN   \n",
       "75%                 9.000000           2014.000000            NaN   \n",
       "max                12.000000           2015.000000       9.000000   \n",
       "\n",
       "          ...       tobacco_smoking_history_indicator  \\\n",
       "count     ...                              399.000000   \n",
       "mean      ...                                2.458647   \n",
       "std       ...                                1.161644   \n",
       "min       ...                                1.000000   \n",
       "25%       ...                                     NaN   \n",
       "50%       ...                                     NaN   \n",
       "75%       ...                                     NaN   \n",
       "max       ...                                5.000000   \n",
       "\n",
       "       tobacco_smoking_pack_years_smoked  tobacco_smoking_year_stopped  \\\n",
       "count                         224.000000                    174.000000   \n",
       "mean                           39.038616                   1989.045977   \n",
       "std                            52.926227                     16.714127   \n",
       "min                             0.150000                   1946.000000   \n",
       "25%                                  NaN                           NaN   \n",
       "50%                                  NaN                           NaN   \n",
       "75%                                  NaN                           NaN   \n",
       "max                           730.000000                   2013.000000   \n",
       "\n",
       "        total_dose  weight_kg_at_diagnosis  progressed_time  deceased_time  \\\n",
       "count     3.000000              369.000000       144.000000     180.000000   \n",
       "mean    876.333333               80.979024       538.145833     552.844444   \n",
       "std     649.138147               23.735788       632.722235     531.947059   \n",
       "min     129.000000               41.000000        16.000000      19.000000   \n",
       "25%            NaN                     NaN              NaN            NaN   \n",
       "50%            NaN                     NaN              NaN            NaN   \n",
       "75%            NaN                     NaN              NaN            NaN   \n",
       "max    1300.000000              292.000000      4907.000000    3183.000000   \n",
       "\n",
       "       censor_time          pfs           os  \n",
       "count   356.000000   412.000000   412.000000  \n",
       "mean    724.337079   712.223301   750.766990  \n",
       "std     831.200983   798.099402   795.075154  \n",
       "min     -64.000000   -64.000000   -64.000000  \n",
       "25%            NaN   216.000000   261.750000  \n",
       "50%            NaN   432.500000   485.500000  \n",
       "75%            NaN   834.500000   861.750000  \n",
       "max    4967.000000  4967.000000  4967.000000  \n",
       "\n",
       "[8 rows x 40 columns]"
      ]
     },
     "execution_count": 4,
     "metadata": {},
     "output_type": "execute_result"
    }
   ],
   "source": [
    "df = blca_cohort.as_dataframe()\n",
    "df.describe()"
   ]
  },
  {
   "cell_type": "markdown",
   "metadata": {
    "collapsed": false
   },
   "source": [
    "## plot survival"
   ]
  },
  {
   "cell_type": "code",
   "execution_count": 5,
   "metadata": {
    "collapsed": false
   },
   "outputs": [
    {
     "name": "stdout",
     "output_type": "stream",
     "text": [
      "Missing tobacco_smoking_history_indicator for 13 patients: from 412 to 399\n",
      "# no condition 201\n",
      "# with condition 198\n"
     ]
    },
    {
     "data": {
      "text/plain": [
       "<lifelines.StatisticalResult: \n",
       "Results\n",
       "   alpha: 0.95\n",
       "   df: 1\n",
       "   t 0: -1\n",
       "   null distribution: chi squared\n",
       "   test: logrank\n",
       "\n",
       "   __ p-value ___|__ test statistic __|____ test result ____|__ is significant __\n",
       "         0.45433 |              0.560 |  Cannot Reject Null |       False       \n",
       ">"
      ]
     },
     "execution_count": 5,
     "metadata": {},
     "output_type": "execute_result"
    },
    {
     "data": {
      "image/png": "[encoded data removed]",
      "text/plain": [
       "<matplotlib.figure.Figure at 0x11a39f128>"
      ]
     },
     "metadata": {},
     "output_type": "display_data"
    }
   ],
   "source": [
    "blca_cohort.plot_survival(on='tobacco_smoking_history_indicator')"
   ]
  },
  {
   "cell_type": "code",
   "execution_count": 6,
   "metadata": {
    "collapsed": false
   },
   "outputs": [
    {
     "name": "stdout",
     "output_type": "stream",
     "text": [
      "Missing tobacco_smoking_history_indicator for 13 patients: from 412 to 399\n",
      "# no condition 111\n",
      "# with condition 288\n"
     ]
    },
    {
     "data": {
      "text/plain": [
       "<lifelines.StatisticalResult: \n",
       "Results\n",
       "   alpha: 0.95\n",
       "   df: 1\n",
       "   t 0: -1\n",
       "   null distribution: chi squared\n",
       "   test: logrank\n",
       "\n",
       "   __ p-value ___|__ test statistic __|____ test result ____|__ is significant __\n",
       "         0.13237 |              2.264 |  Cannot Reject Null |       False       \n",
       ">"
      ]
     },
     "execution_count": 6,
     "metadata": {},
     "output_type": "execute_result"
    },
    {
     "data": {
      "image/png": "[encoded data removed]",
      "text/plain": [
       "<matplotlib.figure.Figure at 0x1195f2dd8>"
      ]
     },
     "metadata": {},
     "output_type": "display_data"
    }
   ],
   "source": [
    "blca_cohort.plot_survival(on='tobacco_smoking_history_indicator', threshold=1)"
   ]
  },
  {
   "cell_type": "code",
   "execution_count": 7,
   "metadata": {
    "collapsed": false
   },
   "outputs": [
    {
     "name": "stdout",
     "output_type": "stream",
     "text": [
      "Missing tobacco_smoking_history_indicator for 13 patients: from 412 to 399\n",
      "# no condition 111\n",
      "# with condition 288\n"
     ]
    },
    {
     "data": {
      "text/plain": [
       "<lifelines.StatisticalResult: \n",
       "Results\n",
       "   alpha: 0.95\n",
       "   df: 1\n",
       "   t 0: -1\n",
       "   null distribution: chi squared\n",
       "   test: logrank\n",
       "\n",
       "   __ p-value ___|__ test statistic __|____ test result ____|__ is significant __\n",
       "         0.25666 |              1.287 |  Cannot Reject Null |       False       \n",
       ">"
      ]
     },
     "execution_count": 7,
     "metadata": {},
     "output_type": "execute_result"
    },
    {
     "data": {
      "image/png": "[encoded data removed]",
      "text/plain": [
       "<matplotlib.figure.Figure at 0x11932f438>"
      ]
     },
     "metadata": {},
     "output_type": "display_data"
    }
   ],
   "source": [
    "blca_cohort.plot_survival(on='tobacco_smoking_history_indicator', threshold=1, how='pfs')"
   ]
  },
  {
   "cell_type": "code",
   "execution_count": 8,
   "metadata": {
    "collapsed": false
   },
   "outputs": [
    {
     "ename": "AttributeError",
     "evalue": "'dict' object has no attribute 'iteritems'",
     "output_type": "error",
     "traceback": [
      "\u001b[0;31m---------------------------------------------------------------------------\u001b[0m",
      "\u001b[0;31mAttributeError\u001b[0m                            Traceback (most recent call last)",
      "\u001b[0;32m<ipython-input-8-7fc6da2c89c9>\u001b[0m in \u001b[0;36m<module>\u001b[0;34m()\u001b[0m\n\u001b[1;32m      1\u001b[0m \u001b[0;32mdef\u001b[0m \u001b[0msmoking\u001b[0m\u001b[0;34m(\u001b[0m\u001b[0mrow\u001b[0m\u001b[0;34m)\u001b[0m\u001b[0;34m:\u001b[0m\u001b[0;34m\u001b[0m\u001b[0m\n\u001b[1;32m      2\u001b[0m     \u001b[0;32mreturn\u001b[0m \u001b[0mrow\u001b[0m\u001b[0;34m[\u001b[0m\u001b[0;34m'tobacco_smoking_history_indicator'\u001b[0m\u001b[0;34m]\u001b[0m\u001b[0;34m\u001b[0m\u001b[0m\n\u001b[0;32m----> 3\u001b[0;31m \u001b[0mblca_cohort\u001b[0m\u001b[0;34m.\u001b[0m\u001b[0mplot_survival\u001b[0m\u001b[0;34m(\u001b[0m\u001b[0;34m{\u001b[0m\u001b[0;34m\"smoking\"\u001b[0m\u001b[0;34m:\u001b[0m \u001b[0msmoking\u001b[0m\u001b[0;34m}\u001b[0m\u001b[0;34m,\u001b[0m \u001b[0mthreshold\u001b[0m\u001b[0;34m=\u001b[0m\u001b[0;36m1\u001b[0m\u001b[0;34m,\u001b[0m \u001b[0mhow\u001b[0m\u001b[0;34m=\u001b[0m\u001b[0;34m'pfs'\u001b[0m\u001b[0;34m)\u001b[0m\u001b[0;34m\u001b[0m\u001b[0m\n\u001b[0m",
      "\u001b[0;32m/Users/jacquelineburos/anaconda3/lib/python3.5/site-packages/cohorts/cohort.py\u001b[0m in \u001b[0;36mplot_survival\u001b[0;34m(self, on, col, how, survival_units, ax, ci_show, with_condition_color, no_condition_color, with_condition_label, no_condition_label, threshold, **kwargs)\u001b[0m\n\u001b[1;32m   1096\u001b[0m         \"\"\"\n\u001b[1;32m   1097\u001b[0m         \u001b[0;32massert\u001b[0m \u001b[0mhow\u001b[0m \u001b[0;32min\u001b[0m \u001b[0;34m[\u001b[0m\u001b[0;34m\"os\"\u001b[0m\u001b[0;34m,\u001b[0m \u001b[0;34m\"pfs\"\u001b[0m\u001b[0;34m]\u001b[0m\u001b[0;34m,\u001b[0m \u001b[0;34m\"Invalid choice of survival plot type %s\"\u001b[0m \u001b[0;34m%\u001b[0m \u001b[0mhow\u001b[0m\u001b[0;34m\u001b[0m\u001b[0m\n\u001b[0;32m-> 1098\u001b[0;31m         \u001b[0mplot_col\u001b[0m\u001b[0;34m,\u001b[0m \u001b[0mdf\u001b[0m \u001b[0;34m=\u001b[0m \u001b[0mself\u001b[0m\u001b[0;34m.\u001b[0m\u001b[0mas_dataframe\u001b[0m\u001b[0;34m(\u001b[0m\u001b[0mon\u001b[0m\u001b[0;34m,\u001b[0m \u001b[0mcol\u001b[0m\u001b[0;34m,\u001b[0m \u001b[0;34m**\u001b[0m\u001b[0mkwargs\u001b[0m\u001b[0;34m)\u001b[0m\u001b[0;34m\u001b[0m\u001b[0m\n\u001b[0m\u001b[1;32m   1099\u001b[0m         \u001b[0mdf\u001b[0m \u001b[0;34m=\u001b[0m \u001b[0mfilter_not_null\u001b[0m\u001b[0;34m(\u001b[0m\u001b[0mdf\u001b[0m\u001b[0;34m,\u001b[0m \u001b[0mplot_col\u001b[0m\u001b[0;34m)\u001b[0m\u001b[0;34m\u001b[0m\u001b[0m\n\u001b[1;32m   1100\u001b[0m         \u001b[0;32mif\u001b[0m \u001b[0mdf\u001b[0m\u001b[0;34m[\u001b[0m\u001b[0mplot_col\u001b[0m\u001b[0;34m]\u001b[0m\u001b[0;34m.\u001b[0m\u001b[0mdtype\u001b[0m \u001b[0;34m==\u001b[0m \u001b[0;34m\"bool\"\u001b[0m\u001b[0;34m:\u001b[0m\u001b[0;34m\u001b[0m\u001b[0m\n",
      "\u001b[0;32m/Users/jacquelineburos/anaconda3/lib/python3.5/site-packages/cohorts/cohort.py\u001b[0m in \u001b[0;36mas_dataframe\u001b[0;34m(self, on, col, join_with, join_how, rename_cols, keep_paren_contents, **kwargs)\u001b[0m\n\u001b[1;32m    328\u001b[0m         \u001b[0;32mif\u001b[0m \u001b[0mtype\u001b[0m\u001b[0;34m(\u001b[0m\u001b[0mon\u001b[0m\u001b[0;34m)\u001b[0m \u001b[0;34m==\u001b[0m \u001b[0mdict\u001b[0m\u001b[0;34m:\u001b[0m\u001b[0;34m\u001b[0m\u001b[0m\n\u001b[1;32m    329\u001b[0m             \u001b[0mcols\u001b[0m \u001b[0;34m=\u001b[0m \u001b[0;34m[\u001b[0m\u001b[0;34m]\u001b[0m\u001b[0;34m\u001b[0m\u001b[0m\n\u001b[0;32m--> 330\u001b[0;31m             \u001b[0;32mfor\u001b[0m \u001b[0mkey\u001b[0m\u001b[0;34m,\u001b[0m \u001b[0mvalue\u001b[0m \u001b[0;32min\u001b[0m \u001b[0mon\u001b[0m\u001b[0;34m.\u001b[0m\u001b[0miteritems\u001b[0m\u001b[0;34m(\u001b[0m\u001b[0;34m)\u001b[0m\u001b[0;34m:\u001b[0m\u001b[0;34m\u001b[0m\u001b[0m\n\u001b[0m\u001b[1;32m    331\u001b[0m                 \u001b[0mcol\u001b[0m\u001b[0;34m,\u001b[0m \u001b[0mdf\u001b[0m \u001b[0;34m=\u001b[0m \u001b[0mapply_func\u001b[0m\u001b[0;34m(\u001b[0m\u001b[0mon\u001b[0m\u001b[0;34m=\u001b[0m\u001b[0mvalue\u001b[0m\u001b[0;34m,\u001b[0m \u001b[0mcol\u001b[0m\u001b[0;34m=\u001b[0m\u001b[0mkey\u001b[0m\u001b[0;34m,\u001b[0m \u001b[0mdf\u001b[0m\u001b[0;34m=\u001b[0m\u001b[0mdf\u001b[0m\u001b[0;34m)\u001b[0m\u001b[0;34m\u001b[0m\u001b[0m\n\u001b[1;32m    332\u001b[0m                 \u001b[0mcols\u001b[0m\u001b[0;34m.\u001b[0m\u001b[0mappend\u001b[0m\u001b[0;34m(\u001b[0m\u001b[0mcol\u001b[0m\u001b[0;34m)\u001b[0m\u001b[0;34m\u001b[0m\u001b[0m\n",
      "\u001b[0;31mAttributeError\u001b[0m: 'dict' object has no attribute 'iteritems'"
     ]
    }
   ],
   "source": [
    "def smoking(row):\n",
    "    return row['tobacco_smoking_history_indicator']\n",
    "blca_cohort.plot_survival({\"smoking\": smoking}, threshold=1, how='pfs')"
   ]
  },
  {
   "cell_type": "markdown",
   "metadata": {},
   "source": [
    "## Summarizing somatic mutation burden"
   ]
  },
  {
   "cell_type": "code",
   "execution_count": null,
   "metadata": {
    "collapsed": true
   },
   "outputs": [],
   "source": [
    "blca_cohort.plot_survival(on=missense_snv_count)"
   ]
  },
  {
   "cell_type": "code",
   "execution_count": null,
   "metadata": {
    "collapsed": true
   },
   "outputs": [],
   "source": []
  },
  {
   "cell_type": "code",
   "execution_count": null,
   "metadata": {
    "collapsed": true
   },
   "outputs": [],
   "source": []
  }
 ],
 "metadata": {
  "kernelspec": {
   "display_name": "Python 3",
   "language": "python",
   "name": "python3"
  },
  "language_info": {
   "codemirror_mode": {
    "name": "ipython",
    "version": 3
   },
   "file_extension": ".py",
   "mimetype": "text/x-python",
   "name": "python",
   "nbconvert_exporter": "python",
   "pygments_lexer": "ipython3",
   "version": "3.5.2"
  }
 },
 "nbformat": 4,
 "nbformat_minor": 0
}
