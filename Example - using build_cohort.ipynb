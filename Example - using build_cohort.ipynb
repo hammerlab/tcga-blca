{
 "cells": [
  {
   "cell_type": "code",
   "execution_count": 47,
   "metadata": {
    "collapsed": false
   },
   "outputs": [
    {
     "name": "stdout",
     "output_type": "stream",
     "text": [
      "The autoreload extension is already loaded. To reload it, use:\n",
      "  %reload_ext autoreload\n"
     ]
    }
   ],
   "source": [
    "%load_ext autoreload\n",
    "%autoreload 2\n",
    "%matplotlib inline\n",
    "import pandas as pd\n",
    "from query_tcga import cohort as qtcohort"
   ]
  },
  {
   "cell_type": "code",
   "execution_count": 40,
   "metadata": {
    "collapsed": false
   },
   "outputs": [
    {
     "name": "stdout",
     "output_type": "stream",
     "text": [
      "{'dataframe_hash': -3076504682498377884, 'provenance_file_summary': None}\n"
     ]
    }
   ],
   "source": [
    "blca_cohort = qtcohort.build_cohort('TCGA-BLCA')"
   ]
  },
  {
   "cell_type": "markdown",
   "metadata": {},
   "source": [
    "## retrieve dataframe for a cohort"
   ]
  },
  {
   "cell_type": "code",
   "execution_count": 43,
   "metadata": {
    "collapsed": false
   },
   "outputs": [
    {
     "data": {
      "text/plain": [
       "_source_desc                            data/gdc/62e7e692-d467-41a6-9fad-2ae1532047d3/...\n",
       "_source_file_uuid                                  [62e7e692-d467-41a6-9fad-2ae1532047d3]\n",
       "_source_type                                                                          XML\n",
       "age_at_diagnosis                                                                      NaN\n",
       "ajcc_metastasis_pathologic_pm                                                          MX\n",
       "ajcc_nodes_pathologic_pn                                                               N0\n",
       "ajcc_path_pt_incidental_prostate                                                      NaN\n",
       "ajcc_pathologic_tumor_stage                                                     Stage III\n",
       "ajcc_staging_edition                                                                  7th\n",
       "ajcc_tumor_clinical_ct                                                                 TX\n",
       "ajcc_tumor_pathologic_pt                                                              T3a\n",
       "anatomic_organ_subdivision                                                        Trigone\n",
       "bcg_complete_response_months                                                          NaN\n",
       "bcg_tx_90_days_prior_to_resection                                                     NaN\n",
       "bcg_tx_complete_response                                                              NaN\n",
       "bcg_tx_induction_courses_indicator                                                    NaN\n",
       "bcg_tx_maintenance_courses_indicator                                                  NaN\n",
       "birth_days_to                                                                      -25305\n",
       "case_id                                              eeca58fe-b5cb-4d13-a93f-a5a2ca00b6e2\n",
       "clinical_trial_drug_classification                                                    NaN\n",
       "course_number                                                                         NaN\n",
       "death_days_to                                                                         NaN\n",
       "ecog_score                                                                            NaN\n",
       "ethnicity                                                          NOT HISPANIC OR LATINO\n",
       "extracapsular_extension                                                               NaN\n",
       "extracapsular_extension_present                                                       NaN\n",
       "family_history_cancer_relationship                                                    NaN\n",
       "family_history_cancer_type                                                            NaN\n",
       "followup_lost_to                                                                      YES\n",
       "followup_reason                                                                       NaN\n",
       "                                                              ...                        \n",
       "radiation_therapy_started_days_to                                                     220\n",
       "radiation_therapy_type                                                           External\n",
       "radiation_total_dose                                                                 3500\n",
       "radiation_treatment_adjuvant                                                           NO\n",
       "regimen_number                                                                        NaN\n",
       "retrospective_collection                                                               NO\n",
       "route_of_administration                                                               NaN\n",
       "submitted_tumor_site                                                              Bladder\n",
       "therapy_regimen                                                                       NaN\n",
       "tobacco_smoking_age_started                                                            30\n",
       "tobacco_smoking_history_indicator                                                       4\n",
       "tobacco_smoking_pack_years_smoked                                                      40\n",
       "tobacco_smoking_year_stopped                                                         2012\n",
       "total_dose                                                                            NaN\n",
       "treatment_best_response                                                               NaN\n",
       "treatment_outcome_at_tcga_followup                                    Progressive Disease\n",
       "treatment_outcome_first_course                                        Progressive Disease\n",
       "tumor_grade                                                                    High Grade\n",
       "tumor_status                                                                   WITH TUMOR\n",
       "vital_status                                                                        Alive\n",
       "weight_kg_at_diagnosis                                                                NaN\n",
       "progressed_time                                                                       207\n",
       "deceased_time                                                                         NaN\n",
       "censor_time                                                                           207\n",
       "progressed                                                                           True\n",
       "deceased                                                                            False\n",
       "pfs                                                                                   207\n",
       "os                                                                                    207\n",
       "benefit                                                                              True\n",
       "progressed_or_deceased                                                               True\n",
       "Name: 0, dtype: object"
      ]
     },
     "execution_count": 43,
     "metadata": {},
     "output_type": "execute_result"
    }
   ],
   "source": [
    "df = blca_cohort.as_dataframe()\n",
    "df.iloc[0, ]"
   ]
  },
  {
   "cell_type": "markdown",
   "metadata": {
    "collapsed": false
   },
   "source": [
    "## plot survival"
   ]
  },
  {
   "cell_type": "code",
   "execution_count": 63,
   "metadata": {
    "collapsed": false
   },
   "outputs": [
    {
     "name": "stdout",
     "output_type": "stream",
     "text": [
      "Missing tobacco_smoking_history_indicator for 13 patients: from 412 to 399\n",
      "# no condition 201\n",
      "# with condition 198\n"
     ]
    },
    {
     "data": {
      "text/plain": [
       "<lifelines.StatisticalResult: \n",
       "Results\n",
       "   null distribution: chi squared\n",
       "   test: logrank\n",
       "   t 0: -1\n",
       "   df: 1\n",
       "   alpha: 0.95\n",
       "\n",
       "   __ p-value ___|__ test statistic __|____ test result ____|__ is significant __\n",
       "         0.45433 |              0.560 |  Cannot Reject Null |       False       \n",
       ">"
      ]
     },
     "execution_count": 63,
     "metadata": {},
     "output_type": "execute_result"
    },
    {
     "data": {
      "image/png": "[encoded data removed]",
      "text/plain": [
       "<matplotlib.figure.Figure at 0x11b6c51d0>"
      ]
     },
     "metadata": {},
     "output_type": "display_data"
    }
   ],
   "source": [
    "blca_cohort.plot_survival(on = 'tobacco_smoking_history_indicator')"
   ]
  },
  {
   "cell_type": "code",
   "execution_count": 56,
   "metadata": {
    "collapsed": false
   },
   "outputs": [
    {
     "name": "stdout",
     "output_type": "stream",
     "text": [
      "Missing tobacco_smoking_history_indicator for 13 patients: from 412 to 399\n",
      "# no condition 111\n",
      "# with condition 288\n"
     ]
    },
    {
     "data": {
      "text/plain": [
       "<lifelines.StatisticalResult: \n",
       "Results\n",
       "   null distribution: chi squared\n",
       "   test: logrank\n",
       "   t 0: -1\n",
       "   df: 1\n",
       "   alpha: 0.95\n",
       "\n",
       "   __ p-value ___|__ test statistic __|____ test result ____|__ is significant __\n",
       "         0.13237 |              2.264 |  Cannot Reject Null |       False       \n",
       ">"
      ]
     },
     "execution_count": 56,
     "metadata": {},
     "output_type": "execute_result"
    },
    {
     "data": {
      "image/png": "[encoded data removed]",
      "text/plain": [
       "<matplotlib.figure.Figure at 0x11ac52470>"
      ]
     },
     "metadata": {},
     "output_type": "display_data"
    }
   ],
   "source": [
    "blca_cohort.plot_survival(on = 'tobacco_smoking_history_indicator', threshold = 1)"
   ]
  },
  {
   "cell_type": "code",
   "execution_count": null,
   "metadata": {
    "collapsed": false
   },
   "outputs": [],
   "source": []
  },
  {
   "cell_type": "markdown",
   "metadata": {},
   "source": [
    "## Summarizing somatic mutation burden"
   ]
  },
  {
   "cell_type": "code",
   "execution_count": null,
   "metadata": {
    "collapsed": true
   },
   "outputs": [],
   "source": []
  },
  {
   "cell_type": "code",
   "execution_count": null,
   "metadata": {
    "collapsed": true
   },
   "outputs": [],
   "source": []
  }
 ],
 "metadata": {
  "kernelspec": {
   "display_name": "Python 3",
   "language": "python",
   "name": "python3"
  },
  "language_info": {
   "codemirror_mode": {
    "name": "ipython",
    "version": 3
   },
   "file_extension": ".py",
   "mimetype": "text/x-python",
   "name": "python",
   "nbconvert_exporter": "python",
   "pygments_lexer": "ipython3",
   "version": "3.5.2"
  }
 },
 "nbformat": 4,
 "nbformat_minor": 0
}
