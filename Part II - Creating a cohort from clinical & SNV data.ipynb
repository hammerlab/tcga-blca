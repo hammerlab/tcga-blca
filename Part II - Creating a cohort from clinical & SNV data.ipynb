{
 "cells": [
  {
   "cell_type": "code",
   "execution_count": 2,
   "metadata": {
    "collapsed": false
   },
   "outputs": [
    {
     "name": "stdout",
     "output_type": "stream",
     "text": [
      "The autoreload extension is already loaded. To reload it, use:\n",
      "  %reload_ext autoreload\n"
     ]
    },
    {
     "name": "stderr",
     "output_type": "stream",
     "text": [
      "/Users/jacquelineburos/anaconda3/envs/python27/lib/python2.7/site-packages/matplotlib/font_manager.py:273: UserWarning: Matplotlib is building the font cache using fc-list. This may take a moment.\n",
      "  warnings.warn('Matplotlib is building the font cache using fc-list. This may take a moment.')\n"
     ]
    }
   ],
   "source": [
    "%load_ext autoreload\n",
    "%autoreload 2\n",
    "%matplotlib inline\n",
    "import sys\n",
    "import pandas as pd\n",
    "import numpy as np\n",
    "import cohorts\n",
    "from cohorts.functions import missense_snv_count, snv_count\n",
    "import query_tcga\n",
    "from query_tcga import config, samples\n",
    "config.load_config('config.ini')\n",
    "import logging\n",
    "logging.basicConfig(level=logging.DEBUG)"
   ]
  },
  {
   "cell_type": "markdown",
   "metadata": {},
   "source": [
    "# Creating a Cohort\n",
    "\n",
    "There are several ways to create a Cohort using [cohorts](http://github.com/hammerlab/cohorts).\n",
    "\n",
    "In our first example, we [created a Cohort from clinical data](http://github.com/jburos/tcga-blca/blob/master/Part%20I%20-%20Creating%20a%20cohort%20from%20clinical%20data%20using%20python2.ipynb). We also showed several of the data summary methods available, using clinical covariates as exampes. \n",
    "\n",
    "But the true value of Cohorts lies in its ability to summarize various categories of genetic & molecular data and to incorporate those data into the analysis.\n",
    "\n",
    "For example, we are going to again use `TCGA` data from the `BLCA` cohort (generated using the `get_clinical_data.py` command-line script available here). \n",
    "\n",
    "\n",
    "## Part 2: Creating a Cohort with somatic mutations"
   ]
  },
  {
   "cell_type": "markdown",
   "metadata": {},
   "source": [
    "### download VCF files"
   ]
  },
  {
   "cell_type": "markdown",
   "metadata": {},
   "source": [
    "To create the `Patient` object, we just need to know the path to the VCF file. \n",
    "\n",
    "There is a helper script in this repo called `refresh_vcf_data.py`. This script downloads VCF files for this project to the `GDC_DATA_DIR`, and stores a delimited version of the fileinfo in the `data` directory.\n",
    "\n",
    "To run the script, you would type the following:\n",
    "\n",
    "    python refresh_vcf_data.py\n",
    "\n",
    "Once this has completed, we only have to map each VCF file to the corresponding patient_id."
   ]
  },
  {
   "cell_type": "code",
   "execution_count": 40,
   "metadata": {
    "collapsed": false
   },
   "outputs": [
    {
     "data": {
      "text/html": [
       "<div>\n",
       "<table border=\"1\" class=\"dataframe\">\n",
       "  <thead>\n",
       "    <tr style=\"text-align: right;\">\n",
       "      <th></th>\n",
       "      <th>submitter_id</th>\n",
       "      <th>snv_vcf_paths</th>\n",
       "      <th>patient_id</th>\n",
       "    </tr>\n",
       "  </thead>\n",
       "  <tbody>\n",
       "    <tr>\n",
       "      <th>0</th>\n",
       "      <td>TCGA-XF-AAN4</td>\n",
       "      <td>data/gdc/03af9a12-e78e-4d5e-8bfe-eed1168e481c/...</td>\n",
       "      <td>AAN4</td>\n",
       "    </tr>\n",
       "    <tr>\n",
       "      <th>1</th>\n",
       "      <td>TCGA-XF-AAML</td>\n",
       "      <td>data/gdc/05b3d9a5-9414-4aa8-899b-243ee07d7231/...</td>\n",
       "      <td>AAML</td>\n",
       "    </tr>\n",
       "    <tr>\n",
       "      <th>2</th>\n",
       "      <td>TCGA-E7-A541</td>\n",
       "      <td>data/gdc/0193bf32-cb0a-419d-a18c-e37ae2747eba/...</td>\n",
       "      <td>A541</td>\n",
       "    </tr>\n",
       "    <tr>\n",
       "      <th>3</th>\n",
       "      <td>TCGA-XF-AAMH</td>\n",
       "      <td>data/gdc/06f5a911-6cab-4b31-8daa-86830972b1c5/...</td>\n",
       "      <td>AAMH</td>\n",
       "    </tr>\n",
       "    <tr>\n",
       "      <th>4</th>\n",
       "      <td>TCGA-BT-A2LA</td>\n",
       "      <td>data/gdc/0952e72a-2f04-42fc-bd46-f0378d3f7622/...</td>\n",
       "      <td>A2LA</td>\n",
       "    </tr>\n",
       "  </tbody>\n",
       "</table>\n",
       "</div>"
      ],
      "text/plain": [
       "   submitter_id                                      snv_vcf_paths patient_id\n",
       "0  TCGA-XF-AAN4  data/gdc/03af9a12-e78e-4d5e-8bfe-eed1168e481c/...       AAN4\n",
       "1  TCGA-XF-AAML  data/gdc/05b3d9a5-9414-4aa8-899b-243ee07d7231/...       AAML\n",
       "2  TCGA-E7-A541  data/gdc/0193bf32-cb0a-419d-a18c-e37ae2747eba/...       A541\n",
       "3  TCGA-XF-AAMH  data/gdc/06f5a911-6cab-4b31-8daa-86830972b1c5/...       AAMH\n",
       "4  TCGA-BT-A2LA  data/gdc/0952e72a-2f04-42fc-bd46-f0378d3f7622/...       A2LA"
      ]
     },
     "execution_count": 40,
     "metadata": {},
     "output_type": "execute_result"
    }
   ],
   "source": [
    "all_vcf_files = pd.read_csv('data/vcf_fileinfo.csv', sep='|')\n",
    "vcf_fileinfo = all_vcf_files.loc[:,['submitter_id','filepath']]\n",
    "vcf_fileinfo.rename(columns = {'filepath': 'snv_vcf_paths'}, inplace=True)\n",
    "vcf_fileinfo['patient_id'] = vcf_fileinfo['submitter_id'].apply(lambda x: x.split('-')[2])\n",
    "vcf_fileinfo.head()"
   ]
  },
  {
   "cell_type": "code",
   "execution_count": 48,
   "metadata": {
    "collapsed": false
   },
   "outputs": [
    {
     "data": {
      "text/html": [
       "<div>\n",
       "<table border=\"1\" class=\"dataframe\">\n",
       "  <thead>\n",
       "    <tr style=\"text-align: right;\">\n",
       "      <th></th>\n",
       "      <th>patient_id</th>\n",
       "      <th>snv_vcf_paths</th>\n",
       "    </tr>\n",
       "  </thead>\n",
       "  <tbody>\n",
       "    <tr>\n",
       "      <th>0</th>\n",
       "      <td>A0C8</td>\n",
       "      <td>[data/gdc/1db7cb30-c1de-43d4-831a-2b1ce399b51a...</td>\n",
       "    </tr>\n",
       "    <tr>\n",
       "      <th>1</th>\n",
       "      <td>A0F0</td>\n",
       "      <td>[data/gdc/ea66441b-e846-47cd-8150-235ddbf0a8d5...</td>\n",
       "    </tr>\n",
       "    <tr>\n",
       "      <th>2</th>\n",
       "      <td>A0F6</td>\n",
       "      <td>[data/gdc/995553e6-9f56-4989-b774-640e728405fa...</td>\n",
       "    </tr>\n",
       "    <tr>\n",
       "      <th>3</th>\n",
       "      <td>A0F7</td>\n",
       "      <td>[data/gdc/7883ff0d-7b54-4716-a22c-d1589beaf220...</td>\n",
       "    </tr>\n",
       "    <tr>\n",
       "      <th>4</th>\n",
       "      <td>A13I</td>\n",
       "      <td>[data/gdc/98d75d71-de58-4105-bdbc-9ef40dd815f6...</td>\n",
       "    </tr>\n",
       "  </tbody>\n",
       "</table>\n",
       "</div>"
      ],
      "text/plain": [
       "  patient_id                                      snv_vcf_paths\n",
       "0       A0C8  [data/gdc/1db7cb30-c1de-43d4-831a-2b1ce399b51a...\n",
       "1       A0F0  [data/gdc/ea66441b-e846-47cd-8150-235ddbf0a8d5...\n",
       "2       A0F6  [data/gdc/995553e6-9f56-4989-b774-640e728405fa...\n",
       "3       A0F7  [data/gdc/7883ff0d-7b54-4716-a22c-d1589beaf220...\n",
       "4       A13I  [data/gdc/98d75d71-de58-4105-bdbc-9ef40dd815f6..."
      ]
     },
     "execution_count": 48,
     "metadata": {},
     "output_type": "execute_result"
    }
   ],
   "source": [
    "vcf_fileinfo['snv_vcf_paths'] = vcf_fileinfo['snv_vcf_paths'].apply(query_tcga.helpers.convert_to_list)\n",
    "vcf_fileinfo.head()\n",
    "vcf_fileinfo_agg = vcf_fileinfo.groupby('patient_id').agg({'snv_vcf_paths': 'sum'}).reset_index()\n",
    "vcf_fileinfo_agg.head()\n",
    "#all_vcf_files.loc[all_vcf_files.duplicated('submitter_id'),:]"
   ]
  },
  {
   "cell_type": "markdown",
   "metadata": {},
   "source": [
    "### load clinical data "
   ]
  },
  {
   "cell_type": "markdown",
   "metadata": {},
   "source": [
    "Here, we will modify the `prep_patient_data` code we used in our earlier script to include processing the extra parameter: `snv_vcf_paths`. \n",
    "\n",
    "In practice, we would include this code in a utility script (we typically name this `analysis/utils/data.py`) so that it can be easily reused, but for this exercise we will code this manually."
   ]
  },
  {
   "cell_type": "code",
   "execution_count": 49,
   "metadata": {
    "collapsed": false
   },
   "outputs": [],
   "source": [
    "clinical_data = pd.read_csv('data/clinical.csv', sep='|')\n",
    "clinical_data = clinical_data.merge(vcf_fileinfo_agg, on='patient_id', how='left')\n",
    "assert clinical_data['snv_vcf_paths'].count()>0\n",
    "clinical_data.dropna(subset=['snv_vcf_paths'], inplace=True, axis=0)\n",
    "assert clinical_data.duplicated('patient_id').any() == False, 'Duplicates by patient_id'"
   ]
  },
  {
   "cell_type": "code",
   "execution_count": 63,
   "metadata": {
    "collapsed": false
   },
   "outputs": [],
   "source": [
    "def prep_patient_data(row):\n",
    "    # capture key outcome data elements\n",
    "    patient_id = row['patient_id']\n",
    "    deceased = row['vital_status'] != 'Alive'\n",
    "    progressed = row['treatment_outcome_at_tcga_followup'] != 'Complete Response'\n",
    "    censor_time = float(row['last_contact_days_to'])\n",
    "    deceased_time = float(row['death_days_to'])\n",
    "    progressed_time = float(row['new_tumor_event_dx_days_to'])\n",
    "    \n",
    "    # compute age at diagnosis\n",
    "    row['age'] = (-1*row['birth_days_to'])/365.25\n",
    "    \n",
    "    # save back in 'row' as-is so that we can see raw values\n",
    "    row['progressed_time'] = progressed_time\n",
    "    row['deceased_time'] = deceased_time\n",
    "    row['censor_time'] = censor_time\n",
    "    row['progressed'] = progressed\n",
    "    row['deceased'] = deceased\n",
    "\n",
    "    # clean up censor time - a number of obs have NaN values \n",
    "    if np.isnan(censor_time):\n",
    "        censor_time = max(progressed_time, deceased_time, censor_time)\n",
    "    if censor_time > progressed_time:\n",
    "        censor_time = progressed_time\n",
    "    if censor_time > deceased_time:\n",
    "        censor_time = deceased_time\n",
    "\n",
    "    # save time-to-event-or-censor data elements\n",
    "    os = deceased_time if deceased else censor_time\n",
    "    pfs = progressed_time if progressed else os\n",
    "    \n",
    "    # again, make sure outcomes aren't NaN\n",
    "    if np.isnan(os):\n",
    "        os = censor_time\n",
    "\n",
    "    if np.isnan(pfs):\n",
    "        pfs = os\n",
    "    \n",
    "    # save transformed versions of outcome back to 'row' object for inspection\n",
    "    row['pfs'] = pfs\n",
    "    row['os'] = os\n",
    "    row['censor_time'] = censor_time\n",
    "    \n",
    "    # force progressed time to be < os \n",
    "    pfs = min(pfs, os) \n",
    "    \n",
    "    # definition of benefit for this cohort\n",
    "    benefit = pfs <= 365.25\n",
    "    \n",
    "    # these conditions are required by Cohorts\n",
    "    assert(not np.isnan(pfs))\n",
    "    assert(not np.isnan(os))\n",
    "    assert pfs <= os, 'PFS {pfs} is not <= OS {os} for Patient {patid}'.format(pfs=pfs, os=os, patid=patient_id)\n",
    "    \n",
    "    # capture snv_vcf_paths, if they exist\n",
    "    if 'snv_vcf_paths' in row.keys() and isinstance(row['snv_vcf_paths'], list):\n",
    "        snv_vcf_paths = query_tcga.helpers.convert_to_list(row['snv_vcf_paths'])\n",
    "    else:\n",
    "        snv_vcf_paths = None\n",
    "    \n",
    "    # create our patient object\n",
    "    patient = cohorts.Patient(\n",
    "        id=str(patient_id),\n",
    "        deceased=deceased,\n",
    "        progressed=progressed,\n",
    "        os=os,\n",
    "        pfs=pfs,\n",
    "        benefit=benefit,\n",
    "        additional_data=row,\n",
    "        snv_vcf_paths=snv_vcf_paths,\n",
    "    )\n",
    "    return(patient)\n"
   ]
  },
  {
   "cell_type": "markdown",
   "metadata": {},
   "source": [
    "As in the earlier example, we will process the rows of our clinical data into a list of Patients"
   ]
  },
  {
   "cell_type": "code",
   "execution_count": 64,
   "metadata": {
    "collapsed": false
   },
   "outputs": [],
   "source": [
    "patients = []\n",
    "for (i, row) in clinical_data.iterrows():\n",
    "    patients.append(prep_patient_data(row))"
   ]
  },
  {
   "cell_type": "markdown",
   "metadata": {},
   "source": [
    "And, create a Cohort object from the list"
   ]
  },
  {
   "cell_type": "code",
   "execution_count": 65,
   "metadata": {
    "collapsed": false
   },
   "outputs": [
    {
     "name": "stdout",
     "output_type": "stream",
     "text": [
      "{'dataframe_hash': 7427154331580444848,\n",
      " 'provenance_file_summary': {u'cohorts': u'0.2.0+6.g205397b',\n",
      "                             u'isovar': u'0.0.6',\n",
      "                             u'mhctools': u'0.2.3',\n",
      "                             u'numpy': u'1.11.1',\n",
      "                             u'pandas': u'0.18.1',\n",
      "                             u'pyensembl': u'0.9.7',\n",
      "                             u'scipy': u'0.17.1',\n",
      "                             u'topiary': u'0.0.21',\n",
      "                             u'varcode': u'0.4.14'}}\n"
     ]
    }
   ],
   "source": [
    "blca_cohort2 = cohorts.Cohort(patients, cache_dir='data-cache2')"
   ]
  },
  {
   "cell_type": "markdown",
   "metadata": {
    "collapsed": false
   },
   "source": [
    "## plot survival"
   ]
  },
  {
   "cell_type": "markdown",
   "metadata": {},
   "source": [
    "As before, we can plot survival for this cohort. \n",
    "\n",
    "This time, however, instead of passing the name of a field in our dataframe, we will pass a function which summarizes the variants (VCFs) for this patient. "
   ]
  },
  {
   "cell_type": "code",
   "execution_count": 67,
   "metadata": {
    "collapsed": false
   },
   "outputs": [
    {
     "name": "stdout",
     "output_type": "stream",
     "text": [
      "# no condition 71\n",
      "# with condition 70\n"
     ]
    },
    {
     "data": {
      "text/plain": [
       "<lifelines.StatisticalResult: \n",
       "Results\n",
       "   df: 1\n",
       "   alpha: 0.95\n",
       "   t 0: -1\n",
       "   test: logrank\n",
       "   null distribution: chi squared\n",
       "\n",
       "   __ p-value ___|__ test statistic __|____ test result ____|__ is significant __\n",
       "         0.19330 |              1.692 |  Cannot Reject Null |       False       \n",
       ">"
      ]
     },
     "execution_count": 67,
     "metadata": {},
     "output_type": "execute_result"
    },
    {
     "data": {
      "image/png": "[encoded data removed]",
      "text/plain": [
       "<matplotlib.figure.Figure at 0x11690fd90>"
      ]
     },
     "metadata": {},
     "output_type": "display_data"
    }
   ],
   "source": [
    "blca_cohort2.plot_survival(on=cohorts.functions.snv_count)"
   ]
  },
  {
   "cell_type": "markdown",
   "metadata": {},
   "source": [
    "This is not dissimilar from the `high_grade_tumor` function we created in the earlier example:"
   ]
  },
  {
   "cell_type": "code",
   "execution_count": 68,
   "metadata": {
    "collapsed": true
   },
   "outputs": [],
   "source": [
    "def high_grade_tumor(row):\n",
    "    return row['tumor_grade'] == 'High Grade'"
   ]
  },
  {
   "cell_type": "markdown",
   "metadata": {},
   "source": [
    "However, this function is a little more intricate. \n",
    "\n",
    "Let's look, for example, at the `snv_count` function ([as of v0.2.0](https://github.com/hammerlab/cohorts/blob/0.2.0/cohorts/functions.py#L24-L38)):"
   ]
  },
  {
   "cell_type": "code",
   "execution_count": 74,
   "metadata": {
    "collapsed": true
   },
   "outputs": [],
   "source": [
    "def alt_snv_count(row, cohort, filter_fn=None, normalized_per_mb=None, **kwargs):\n",
    "    filter_fn = first_not_none_param([filter_fn, cohort.filter_fn], no_filter)\n",
    "    normalized_per_mb = first_not_none_param([normalized_per_mb, cohort.normalized_per_mb], False)\n",
    "    patient_id = row[\"patient_id\"]\n",
    "    patient_variants = cohort.load_variants(\n",
    "        patients=[cohort.patient_from_id(patient_id)],\n",
    "        filter_fn=filter_fn,\n",
    "        **kwargs)\n",
    "    if patient_id in patient_variants:\n",
    "        count = len(patient_variants[patient_id])\n",
    "        if normalized_per_mb:\n",
    "            count /= float(get_patient_to_mb(cohort)[patient_id])\n",
    "        return count\n",
    "    return np.nan\n"
   ]
  },
  {
   "cell_type": "markdown",
   "metadata": {},
   "source": [
    "There are essentially three steps to this function, other than processing input params:\n",
    "1. Identify the patient, given the row\n",
    "2. Load variants for this patient (compute them, or load from cache using the union of VCFs).\n",
    "    - Optionally apply any QC filters defined at Cohort or function level (more on this to come)\n",
    "3. Count the variants associated with this patient"
   ]
  },
  {
   "cell_type": "markdown",
   "metadata": {},
   "source": [
    "## recreate snv_count for one patient"
   ]
  },
  {
   "cell_type": "markdown",
   "metadata": {},
   "source": [
    "If we were to recreate these steps semi-manually, they would look something like the following:"
   ]
  },
  {
   "cell_type": "code",
   "execution_count": 69,
   "metadata": {
    "collapsed": true
   },
   "outputs": [],
   "source": [
    "row = blca_cohort2.as_dataframe().iloc[0,:]\n",
    "filter_fn = cohorts.variant_filters.no_filter\n",
    "patient_id = row['patient_id']"
   ]
  },
  {
   "cell_type": "code",
   "execution_count": 70,
   "metadata": {
    "collapsed": false
   },
   "outputs": [],
   "source": [
    "patient_variants = blca_cohort2.load_variants(patients=[blca_cohort2.patient_from_id(patient_id)], filter_fn=filter_fn)"
   ]
  },
  {
   "cell_type": "code",
   "execution_count": 71,
   "metadata": {
    "collapsed": false
   },
   "outputs": [],
   "source": [
    "count = len(patient_variants[patient_id])"
   ]
  },
  {
   "cell_type": "code",
   "execution_count": 72,
   "metadata": {
    "collapsed": false
   },
   "outputs": [
    {
     "data": {
      "text/plain": [
       "3679"
      ]
     },
     "execution_count": 72,
     "metadata": {},
     "output_type": "execute_result"
    }
   ],
   "source": [
    "count"
   ]
  },
  {
   "cell_type": "markdown",
   "metadata": {},
   "source": [
    "## plot snv_count by benefit"
   ]
  },
  {
   "cell_type": "code",
   "execution_count": 73,
   "metadata": {
    "collapsed": false
   },
   "outputs": [
    {
     "name": "stdout",
     "output_type": "stream",
     "text": [
      "Mann-Whitney test: U=2337.0, p-value=0.643264297939 (two-sided)\n"
     ]
    },
    {
     "data": {
      "text/plain": [
       "MannWhitneyResults(U=2337.0, p_value=0.643264297939, sided_str='two-sided')"
      ]
     },
     "execution_count": 73,
     "metadata": {},
     "output_type": "execute_result"
    },
    {
     "data": {
      "image/png": "[encoded data removed]",
      "text/plain": [
       "<matplotlib.figure.Figure at 0x116c26e10>"
      ]
     },
     "metadata": {},
     "output_type": "display_data"
    }
   ],
   "source": [
    "blca_cohort2.plot_benefit(cohorts.functions.snv_count)"
   ]
  },
  {
   "cell_type": "markdown",
   "metadata": {},
   "source": [
    "## retrieve dataframe for a cohort"
   ]
  },
  {
   "cell_type": "markdown",
   "metadata": {},
   "source": [
    "As before, we can retrieve the same summary statistics as a dataframe. \n",
    "\n",
    "Here it is possible to provide a list of functions so that multiple summary statistics can be computed in the same dataframe.\n",
    "\n",
    "Also note that **the function now returns a tuple** when a list is passed to the parameter `on`. \n",
    "    (By comparison, when no `on` parameter is given, `as_dataframe()` simply returns a dataframe.)"
   ]
  },
  {
   "cell_type": "code",
   "execution_count": 44,
   "metadata": {
    "collapsed": false
   },
   "outputs": [
    {
     "name": "stdout",
     "output_type": "stream",
     "text": [
      "['snv_count']\n"
     ]
    }
   ],
   "source": [
    "extra_cols, df = blca_cohort2.as_dataframe(on=[cohorts.functions.snv_count])\n",
    "print(extra_cols)"
   ]
  },
  {
   "cell_type": "markdown",
   "metadata": {},
   "source": [
    "## cached effects"
   ]
  },
  {
   "cell_type": "markdown",
   "metadata": {},
   "source": [
    "There's a fair amount of processing required to load the VCFs into varcode & summarize patient effects. \n",
    "\n",
    "To speed up this process, `Cohorts` caches intermediate results of these computations on the filesystem.\n",
    "\n",
    "We now have a new folder in our `data-cache` directory:"
   ]
  },
  {
   "cell_type": "code",
   "execution_count": 45,
   "metadata": {
    "collapsed": false
   },
   "outputs": [
    {
     "name": "stdout",
     "output_type": "stream",
     "text": [
      "\u001b[34mcached-variants\u001b[m\u001b[m/\r\n"
     ]
    }
   ],
   "source": [
    "ls -1 data-cache2/"
   ]
  },
  {
   "cell_type": "markdown",
   "metadata": {},
   "source": [
    "Within that directory, we have one folder per patient containing cached variants:"
   ]
  },
  {
   "cell_type": "code",
   "execution_count": 46,
   "metadata": {
    "collapsed": false
   },
   "outputs": [
    {
     "name": "stdout",
     "output_type": "stream",
     "text": [
      "A0S7/\r\n",
      "A1AB/\r\n",
      "A2LA/\r\n",
      "A2OE/\r\n",
      "A2PC/\r\n",
      "A3I6/\r\n",
      "A3IV/\r\n",
      "A3MH/\r\n",
      "A3SL/\r\n",
      "A3WX/\r\n"
     ]
    }
   ],
   "source": [
    "ls -1 data-cache2/cached-variants/ | head"
   ]
  },
  {
   "cell_type": "markdown",
   "metadata": {},
   "source": [
    "We can also now check our data-source summary to ensure that all cached data were prepared in the same environment."
   ]
  },
  {
   "cell_type": "code",
   "execution_count": 47,
   "metadata": {
    "collapsed": false
   },
   "outputs": [
    {
     "data": {
      "text/plain": [
       "{'dataframe_hash': 463748958046215442,\n",
       " 'provenance_file_summary': {u'cohorts': u'0.2.0+6.g205397b',\n",
       "  u'isovar': u'0.0.6',\n",
       "  u'mhctools': u'0.2.3',\n",
       "  u'numpy': u'1.11.1',\n",
       "  u'pandas': u'0.18.1',\n",
       "  u'pyensembl': u'0.9.7',\n",
       "  u'scipy': u'0.17.1',\n",
       "  u'topiary': u'0.0.21',\n",
       "  u'varcode': u'0.4.14'}}"
      ]
     },
     "execution_count": 47,
     "metadata": {},
     "output_type": "execute_result"
    }
   ],
   "source": [
    "blca_cohort2.summarize_data_sources()"
   ]
  },
  {
   "cell_type": "markdown",
   "metadata": {},
   "source": [
    "The next time these data are used, the provenance_file_summary will be updated."
   ]
  },
  {
   "cell_type": "markdown",
   "metadata": {},
   "source": [
    "## Summary and next steps"
   ]
  },
  {
   "cell_type": "markdown",
   "metadata": {},
   "source": [
    "We can now start to see some of the utility of `Cohorts` for managing clinical + somatic mutation data.\n",
    "\n",
    "But, there is more to come. \n",
    "\n",
    "Next up: advanced features (filters) & the dataframe_loader \n"
   ]
  }
 ],
 "metadata": {
  "kernelspec": {
   "display_name": "Python 2",
   "language": "python",
   "name": "python2"
  },
  "language_info": {
   "codemirror_mode": {
    "name": "ipython",
    "version": 2
   },
   "file_extension": ".py",
   "mimetype": "text/x-python",
   "name": "python",
   "nbconvert_exporter": "python",
   "pygments_lexer": "ipython2",
   "version": "2.7.12"
  }
 },
 "nbformat": 4,
 "nbformat_minor": 0
}
