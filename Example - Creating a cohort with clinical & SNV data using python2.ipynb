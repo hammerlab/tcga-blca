{
 "cells": [
  {
   "cell_type": "code",
   "execution_count": 216,
   "metadata": {
    "collapsed": false
   },
   "outputs": [
    {
     "name": "stdout",
     "output_type": "stream",
     "text": [
      "The autoreload extension is already loaded. To reload it, use:\n",
      "  %reload_ext autoreload\n"
     ]
    }
   ],
   "source": [
    "%load_ext autoreload\n",
    "%autoreload 2\n",
    "%matplotlib inline\n",
    "import sys\n",
    "import pandas as pd\n",
    "import numpy as np\n",
    "import cohorts\n",
    "from cohorts.functions import missense_snv_count, snv_count\n",
    "import query_tcga\n",
    "#from query_tcga import cohort, config, cache\n",
    "#from query_tcga import query_tcga as qtcga\n",
    "import logging\n",
    "logging.basicConfig(level=logging.DEBUG)"
   ]
  },
  {
   "cell_type": "markdown",
   "metadata": {},
   "source": [
    "# Creating a Cohort\n",
    "\n",
    "There are several ways to create a Cohort using [cohorts](http://github.com/hammerlab/cohorts).\n",
    "\n",
    "In our first example, we [created a Cohort from clinical data](http://github.com/jburos/tcga-blca/blob/master/Example%20-%20Creating%20a%20cohort%20from%20clinical%20data%20using%20python2.ipynb). We also showed several of the data summary methods available, using clinical covariates as exampes. \n",
    "\n",
    "But the true value of Cohorts lies in its ability to summarize various categories of genetic & molecular data and to incorporate those data into the analysis.\n",
    "\n",
    "For example, we are going to again use `TCGA` data from the `BLCA` cohort (generated using the `get_clinical_data.py` command-line script available here). \n",
    "\n",
    "\n",
    "## Part 2: Creating a Cohort with somatic mutations"
   ]
  },
  {
   "cell_type": "markdown",
   "metadata": {},
   "source": [
    "### download VCF files"
   ]
  },
  {
   "cell_type": "markdown",
   "metadata": {},
   "source": [
    "First, we will set up the values for the `query_tcga` package to download the VCF files."
   ]
  },
  {
   "cell_type": "code",
   "execution_count": 26,
   "metadata": {
    "collapsed": false
   },
   "outputs": [],
   "source": [
    "query_tcga.config.set_value(GDC_TOKEN_PATH='/Users/jacquelineburos/Downloads/gdc-user-token.2016-09-26T12-23-27-04-00.txt')\n",
    "query_tcga.config.set_value(GDC_DATA_DIR='/Users/jacquelineburos/projects/tcga-blca/data/gdc/')\n",
    "query_tcga.cache.setup_cache()"
   ]
  },
  {
   "cell_type": "markdown",
   "metadata": {},
   "source": [
    "We will use `query_tcga` to download VCF files for 30 patients in this `TCGA` project."
   ]
  },
  {
   "cell_type": "code",
   "execution_count": 27,
   "metadata": {
    "collapsed": false
   },
   "outputs": [],
   "source": [
    "vcf_files = query_tcga.samples.download_vcf_files(project_name='TCGA-BLCA', n=30)"
   ]
  },
  {
   "cell_type": "markdown",
   "metadata": {},
   "source": [
    "This function returns a list of files, plus a `.fileinfo` attribute summarizing file contents."
   ]
  },
  {
   "cell_type": "code",
   "execution_count": 217,
   "metadata": {
    "collapsed": false
   },
   "outputs": [
    {
     "data": {
      "text/html": [
       "<div>\n",
       "<table border=\"1\" class=\"dataframe\">\n",
       "  <thead>\n",
       "    <tr style=\"text-align: right;\">\n",
       "      <th></th>\n",
       "      <th>file_id</th>\n",
       "      <th>filepath</th>\n",
       "      <th>reference_name</th>\n",
       "      <th>analysis_id</th>\n",
       "      <th>case_id</th>\n",
       "      <th>data_category</th>\n",
       "      <th>data_type</th>\n",
       "      <th>file_name</th>\n",
       "      <th>samples</th>\n",
       "      <th>submitter_id</th>\n",
       "    </tr>\n",
       "  </thead>\n",
       "  <tbody>\n",
       "    <tr>\n",
       "      <th>0</th>\n",
       "      <td>04cfe9cc-e74d-4f67-9652-eb9fece22e89</td>\n",
       "      <td>data/gdc/04cfe9cc-e74d-4f67-9652-eb9fece22e89/...</td>\n",
       "      <td>GRCh38</td>\n",
       "      <td>ab2ef33d-678f-43f3-95b0-f3c02ae28025</td>\n",
       "      <td>f953dc5d-58bf-4936-b9fe-74b45e8c00e5</td>\n",
       "      <td>Simple Nucleotide Variation</td>\n",
       "      <td>Raw Simple Somatic Mutation</td>\n",
       "      <td>04cfe9cc-e74d-4f67-9652-eb9fece22e89.vcf.gz</td>\n",
       "      <td>[{u'submitter_id': u'TCGA-DK-A3IV-01A', u'tumo...</td>\n",
       "      <td>TCGA-DK-A3IV</td>\n",
       "    </tr>\n",
       "  </tbody>\n",
       "</table>\n",
       "</div>"
      ],
      "text/plain": [
       "                                file_id  \\\n",
       "0  04cfe9cc-e74d-4f67-9652-eb9fece22e89   \n",
       "\n",
       "                                            filepath reference_name  \\\n",
       "0  data/gdc/04cfe9cc-e74d-4f67-9652-eb9fece22e89/...         GRCh38   \n",
       "\n",
       "                            analysis_id                               case_id  \\\n",
       "0  ab2ef33d-678f-43f3-95b0-f3c02ae28025  f953dc5d-58bf-4936-b9fe-74b45e8c00e5   \n",
       "\n",
       "                 data_category                    data_type  \\\n",
       "0  Simple Nucleotide Variation  Raw Simple Somatic Mutation   \n",
       "\n",
       "                                     file_name  \\\n",
       "0  04cfe9cc-e74d-4f67-9652-eb9fece22e89.vcf.gz   \n",
       "\n",
       "                                             samples  submitter_id  \n",
       "0  [{u'submitter_id': u'TCGA-DK-A3IV-01A', u'tumo...  TCGA-DK-A3IV  "
      ]
     },
     "execution_count": 217,
     "metadata": {},
     "output_type": "execute_result"
    }
   ],
   "source": [
    "vcf_files.fileinfo.head(n=1)"
   ]
  },
  {
   "cell_type": "code",
   "execution_count": 218,
   "metadata": {
    "collapsed": false
   },
   "outputs": [
    {
     "data": {
      "text/html": [
       "<div>\n",
       "<table border=\"1\" class=\"dataframe\">\n",
       "  <thead>\n",
       "    <tr style=\"text-align: right;\">\n",
       "      <th></th>\n",
       "      <th>submitter_id</th>\n",
       "      <th>snv_vcf_paths</th>\n",
       "      <th>patient_id</th>\n",
       "    </tr>\n",
       "  </thead>\n",
       "  <tbody>\n",
       "    <tr>\n",
       "      <th>0</th>\n",
       "      <td>TCGA-DK-A3IV</td>\n",
       "      <td>data/gdc/04cfe9cc-e74d-4f67-9652-eb9fece22e89/...</td>\n",
       "      <td>A3IV</td>\n",
       "    </tr>\n",
       "    <tr>\n",
       "      <th>1</th>\n",
       "      <td>TCGA-GU-A42P</td>\n",
       "      <td>data/gdc/0e4ff65d-ce0c-4494-a7ab-d4fb39689bf4/...</td>\n",
       "      <td>A42P</td>\n",
       "    </tr>\n",
       "    <tr>\n",
       "      <th>2</th>\n",
       "      <td>TCGA-XF-AAMH</td>\n",
       "      <td>data/gdc/06f5a911-6cab-4b31-8daa-86830972b1c5/...</td>\n",
       "      <td>AAMH</td>\n",
       "    </tr>\n",
       "    <tr>\n",
       "      <th>3</th>\n",
       "      <td>TCGA-GC-A3I6</td>\n",
       "      <td>data/gdc/0cadfaa3-70b5-4874-9130-c6757e684329/...</td>\n",
       "      <td>A3I6</td>\n",
       "    </tr>\n",
       "    <tr>\n",
       "      <th>4</th>\n",
       "      <td>TCGA-DK-AA6Q</td>\n",
       "      <td>data/gdc/06b001a4-7660-4ae9-9a77-03d61dfb58b1/...</td>\n",
       "      <td>AA6Q</td>\n",
       "    </tr>\n",
       "  </tbody>\n",
       "</table>\n",
       "</div>"
      ],
      "text/plain": [
       "   submitter_id                                      snv_vcf_paths patient_id\n",
       "0  TCGA-DK-A3IV  data/gdc/04cfe9cc-e74d-4f67-9652-eb9fece22e89/...       A3IV\n",
       "1  TCGA-GU-A42P  data/gdc/0e4ff65d-ce0c-4494-a7ab-d4fb39689bf4/...       A42P\n",
       "2  TCGA-XF-AAMH  data/gdc/06f5a911-6cab-4b31-8daa-86830972b1c5/...       AAMH\n",
       "3  TCGA-GC-A3I6  data/gdc/0cadfaa3-70b5-4874-9130-c6757e684329/...       A3I6\n",
       "4  TCGA-DK-AA6Q  data/gdc/06b001a4-7660-4ae9-9a77-03d61dfb58b1/...       AA6Q"
      ]
     },
     "execution_count": 218,
     "metadata": {},
     "output_type": "execute_result"
    }
   ],
   "source": [
    "vcf_fileinfo = vcf_files.fileinfo.loc[:,['submitter_id','filepath']]\n",
    "vcf_fileinfo.rename(columns = {'filepath': 'snv_vcf_paths'}, inplace=True)\n",
    "vcf_fileinfo['patient_id'] = vcf_fileinfo['submitter_id'].apply(lambda x: x.split('-')[2])\n",
    "vcf_fileinfo.head()"
   ]
  },
  {
   "cell_type": "markdown",
   "metadata": {},
   "source": [
    "### load clinical data "
   ]
  },
  {
   "cell_type": "code",
   "execution_count": 219,
   "metadata": {
    "collapsed": false
   },
   "outputs": [],
   "source": [
    "clinical_data = pd.read_csv('data/clinical.csv', sep='|')\n",
    "clinical_data = clinical_data.merge(vcf_fileinfo, on='patient_id', how='left')\n",
    "assert clinical_data['snv_vcf_paths'].count()>0\n",
    "clinical_data.dropna(subset=['snv_vcf_paths'], inplace=True, axis=0)\n",
    "#clinical_data.head()"
   ]
  },
  {
   "cell_type": "code",
   "execution_count": 220,
   "metadata": {
    "collapsed": false
   },
   "outputs": [],
   "source": [
    "def prep_patient_data(row):\n",
    "    # capture key outcome data elements\n",
    "    patient_id = row['patient_id']\n",
    "    deceased = row['vital_status'] != 'Alive'\n",
    "    progressed = row['treatment_outcome_at_tcga_followup'] != 'Complete Response'\n",
    "    censor_time = float(row['last_contact_days_to'])\n",
    "    deceased_time = float(row['death_days_to'])\n",
    "    progressed_time = float(row['new_tumor_event_dx_days_to'])\n",
    "    \n",
    "    # compute age at diagnosis\n",
    "    row['age'] = (-1*row['birth_days_to'])/365.25\n",
    "    \n",
    "    # save back in 'row' as-is so that we can see raw values\n",
    "    row['progressed_time'] = progressed_time\n",
    "    row['deceased_time'] = deceased_time\n",
    "    row['censor_time'] = censor_time\n",
    "    row['progressed'] = progressed\n",
    "    row['deceased'] = deceased\n",
    "\n",
    "    # clean up censor time - a number of obs have NaN values \n",
    "    if np.isnan(censor_time):\n",
    "        censor_time = max(progressed_time, deceased_time, censor_time)\n",
    "    if censor_time > progressed_time:\n",
    "        censor_time = progressed_time\n",
    "    if censor_time > deceased_time:\n",
    "        censor_time = deceased_time\n",
    "\n",
    "    # save time-to-event-or-censor data elements\n",
    "    os = deceased_time if deceased else censor_time\n",
    "    pfs = progressed_time if progressed else os\n",
    "    \n",
    "    # again, make sure outcomes aren't NaN\n",
    "    if np.isnan(os):\n",
    "        os = censor_time\n",
    "\n",
    "    if np.isnan(pfs):\n",
    "        pfs = os\n",
    "    \n",
    "    # save transformed versions of outcome back to 'row' object for inspection\n",
    "    row['pfs'] = pfs\n",
    "    row['os'] = os\n",
    "    row['censor_time'] = censor_time\n",
    "    \n",
    "    # force progressed time to be < os \n",
    "    pfs = min(pfs, os) \n",
    "    \n",
    "    # definition of benefit for this cohort\n",
    "    benefit = pfs <= 365.25\n",
    "    \n",
    "    # these conditions are required by Cohorts\n",
    "    assert(not np.isnan(pfs))\n",
    "    assert(not np.isnan(os))\n",
    "    assert pfs <= os, 'PFS {pfs} is not <= OS {os} for Patient {patid}'.format(pfs=pfs, os=os, patid=patient_id)\n",
    "    \n",
    "    # capture snv_vcf_paths, if they exist\n",
    "    if 'snv_vcf_paths' in row.keys() and isinstance(row['snv_vcf_paths'], str):\n",
    "        snv_vcf_paths = query_tcga.helpers.convert_to_list(row['snv_vcf_paths'])\n",
    "    else:\n",
    "        snv_vcf_paths = None\n",
    "    \n",
    "    # create our patient object\n",
    "    patient = cohorts.Patient(\n",
    "        id=str(patient_id),\n",
    "        deceased=deceased,\n",
    "        progressed=progressed,\n",
    "        os=os,\n",
    "        pfs=pfs,\n",
    "        benefit=benefit,\n",
    "        additional_data=row,\n",
    "        snv_vcf_paths=snv_vcf_paths,\n",
    "    )\n",
    "    return(patient)\n"
   ]
  },
  {
   "cell_type": "markdown",
   "metadata": {},
   "source": [
    "As in the earlier example, we will process the rows of our clinical data into a list of Patients"
   ]
  },
  {
   "cell_type": "code",
   "execution_count": 221,
   "metadata": {
    "collapsed": false
   },
   "outputs": [],
   "source": [
    "patients = []\n",
    "for (i, row) in clinical_data.iterrows():\n",
    "    patients.append(prep_patient_data(row))"
   ]
  },
  {
   "cell_type": "markdown",
   "metadata": {},
   "source": [
    "And, create a Cohort object from the list"
   ]
  },
  {
   "cell_type": "code",
   "execution_count": 222,
   "metadata": {
    "collapsed": false
   },
   "outputs": [
    {
     "name": "stdout",
     "output_type": "stream",
     "text": [
      "{'dataframe_hash': -2509365845797989729, 'provenance_file_summary': None}\n"
     ]
    }
   ],
   "source": [
    "blca_cohort2 = cohorts.Cohort(patients, cache_dir='data-cache2')"
   ]
  },
  {
   "cell_type": "markdown",
   "metadata": {
    "collapsed": false
   },
   "source": [
    "## plot survival"
   ]
  },
  {
   "cell_type": "markdown",
   "metadata": {},
   "source": [
    "As before, we can plot survival for this cohort. \n",
    "\n",
    "This time, however, instead of passing the name of a field in our dataframe, we will pass a function which summarizes the variants (VCFs) for this patient. "
   ]
  },
  {
   "cell_type": "code",
   "execution_count": 223,
   "metadata": {
    "collapsed": false
   },
   "outputs": [
    {
     "name": "stdout",
     "output_type": "stream",
     "text": [
      "# no condition 15\n",
      "# with condition 15\n"
     ]
    },
    {
     "data": {
      "text/plain": [
       "<lifelines.StatisticalResult: \n",
       "Results\n",
       "   df: 1\n",
       "   alpha: 0.95\n",
       "   t 0: -1\n",
       "   test: logrank\n",
       "   null distribution: chi squared\n",
       "\n",
       "   __ p-value ___|__ test statistic __|____ test result ____|__ is significant __\n",
       "         0.48829 |              0.480 |  Cannot Reject Null |       False       \n",
       ">"
      ]
     },
     "execution_count": 223,
     "metadata": {},
     "output_type": "execute_result"
    },
    {
     "data": {
      "image/png": "[encoded data removed]",
      "text/plain": [
       "<matplotlib.figure.Figure at 0x15330c610>"
      ]
     },
     "metadata": {},
     "output_type": "display_data"
    }
   ],
   "source": [
    "blca_cohort2.plot_survival(on=cohorts.functions.snv_count)"
   ]
  },
  {
   "cell_type": "markdown",
   "metadata": {},
   "source": [
    "This is not dissimilar from the `high_grade_tumor` function we created in the earlier example:"
   ]
  },
  {
   "cell_type": "code",
   "execution_count": 224,
   "metadata": {
    "collapsed": true
   },
   "outputs": [],
   "source": [
    "def high_grade_tumor(row):\n",
    "    return row['tumor_grade'] == 'High Grade'"
   ]
  },
  {
   "cell_type": "markdown",
   "metadata": {},
   "source": [
    "However, this function is a little more intricate. \n",
    "\n",
    "Let's look, for example, at the `snv_count` function ([as of v0.2.0](https://github.com/hammerlab/cohorts/blob/0.2.0/cohorts/functions.py#L24-L38)):"
   ]
  },
  {
   "cell_type": "markdown",
   "metadata": {
    "collapsed": false
   },
   "source": [
    "```{python}\n",
    "def snv_count(row, cohort, filter_fn=None, normalized_per_mb=None, **kwargs):\n",
    "    filter_fn = first_not_none_param([filter_fn, cohort.filter_fn], no_filter)\n",
    "    normalized_per_mb = first_not_none_param([normalized_per_mb, cohort.normalized_per_mb], False)\n",
    "    patient_id = row[\"patient_id\"]\n",
    "    patient_variants = cohort.load_variants(\n",
    "        patients=[cohort.patient_from_id(patient_id)],\n",
    "        filter_fn=filter_fn,\n",
    "        **kwargs)\n",
    "    if patient_id in patient_variants:\n",
    "        count = len(patient_variants[patient_id])\n",
    "        if normalized_per_mb:\n",
    "            count /= float(get_patient_to_mb(cohort)[patient_id])\n",
    "        return count\n",
    "    return np.nan\n",
    "```"
   ]
  },
  {
   "cell_type": "markdown",
   "metadata": {},
   "source": [
    "There are essentially three steps to this function, other than processing input params:\n",
    "1. Identify the patient, given the row\n",
    "2. Load variants for this patient (compute them, or load from cache using the union of VCFs).\n",
    "    - Optionally apply any QC filters defined at Cohort or function level (more on this to come)\n",
    "3. Count the variants associated with this patient"
   ]
  },
  {
   "cell_type": "markdown",
   "metadata": {},
   "source": [
    "## recreate snv_count for one patient"
   ]
  },
  {
   "cell_type": "markdown",
   "metadata": {},
   "source": [
    "If we were to recreate these steps semi-manually, they would look something like the following:"
   ]
  },
  {
   "cell_type": "code",
   "execution_count": 225,
   "metadata": {
    "collapsed": true
   },
   "outputs": [],
   "source": [
    "row = blca_cohort2.as_dataframe().iloc[0,:]\n",
    "filter_fn = cohorts.variant_filters.no_filter\n",
    "patient_id = row['patient_id']"
   ]
  },
  {
   "cell_type": "code",
   "execution_count": 226,
   "metadata": {
    "collapsed": false
   },
   "outputs": [],
   "source": [
    "patient_variants = blca_cohort2.load_variants(patients=[blca_cohort2.patient_from_id(patient_id)], filter_fn=filter_fn)"
   ]
  },
  {
   "cell_type": "code",
   "execution_count": 227,
   "metadata": {
    "collapsed": false
   },
   "outputs": [],
   "source": [
    "count = len(patient_variants[patient_id])"
   ]
  },
  {
   "cell_type": "code",
   "execution_count": 228,
   "metadata": {
    "collapsed": false
   },
   "outputs": [
    {
     "data": {
      "text/plain": [
       "4043"
      ]
     },
     "execution_count": 228,
     "metadata": {},
     "output_type": "execute_result"
    }
   ],
   "source": [
    "count"
   ]
  },
  {
   "cell_type": "markdown",
   "metadata": {},
   "source": [
    "## plot snv_count by benefit"
   ]
  },
  {
   "cell_type": "code",
   "execution_count": 229,
   "metadata": {
    "collapsed": false
   },
   "outputs": [
    {
     "name": "stdout",
     "output_type": "stream",
     "text": [
      "Mann-Whitney test: U=62.0, p-value=0.039614886339 (two-sided)\n"
     ]
    },
    {
     "data": {
      "text/plain": [
       "MannWhitneyResults(U=62.0, p_value=0.039614886339, sided_str='two-sided')"
      ]
     },
     "execution_count": 229,
     "metadata": {},
     "output_type": "execute_result"
    },
    {
     "data": {
      "image/png": "[encoded data removed]",
      "text/plain": [
       "<matplotlib.figure.Figure at 0x15100d610>"
      ]
     },
     "metadata": {},
     "output_type": "display_data"
    }
   ],
   "source": [
    "blca_cohort2.plot_benefit(cohorts.functions.snv_count)"
   ]
  },
  {
   "cell_type": "markdown",
   "metadata": {},
   "source": [
    "## retrieve dataframe for a cohort"
   ]
  },
  {
   "cell_type": "markdown",
   "metadata": {},
   "source": [
    "As before, we can retrieve the same summary statistics as a dataframe. \n",
    "\n",
    "Here it is possible to provide a list of functions so that multiple summary statistics can be computed in the same dataframe.\n",
    "\n",
    "Also note that **the function now returns a tuple** when a list is passed to the parameter `on`. \n",
    "    (By comparison, when no `on` parameter is given, `as_dataframe()` simply returns a dataframe.)"
   ]
  },
  {
   "cell_type": "code",
   "execution_count": 230,
   "metadata": {
    "collapsed": false
   },
   "outputs": [
    {
     "name": "stdout",
     "output_type": "stream",
     "text": [
      "['snv_count']\n"
     ]
    }
   ],
   "source": [
    "extra_cols, df = blca_cohort2.as_dataframe(on=[cohorts.functions.snv_count])\n",
    "print(extra_cols)"
   ]
  },
  {
   "cell_type": "markdown",
   "metadata": {},
   "source": [
    "## cached effects"
   ]
  },
  {
   "cell_type": "markdown",
   "metadata": {},
   "source": [
    "There's a fair amount of processing required to load the VCFs into varcode & summarize patient effects. \n",
    "\n",
    "To speed up this process, `Cohorts` caches intermediate results of these computations on the filesystem.\n",
    "\n",
    "We now have a new folder in our `data-cache` directory:"
   ]
  },
  {
   "cell_type": "code",
   "execution_count": 231,
   "metadata": {
    "collapsed": false
   },
   "outputs": [
    {
     "name": "stdout",
     "output_type": "stream",
     "text": [
      "\u001b[34mcached-variants\u001b[m\u001b[m/\r\n"
     ]
    }
   ],
   "source": [
    "ls -1 data-cache2/"
   ]
  },
  {
   "cell_type": "markdown",
   "metadata": {},
   "source": [
    "Within that directory, we have one folder per patient containing cached variants:"
   ]
  },
  {
   "cell_type": "code",
   "execution_count": 232,
   "metadata": {
    "collapsed": false
   },
   "outputs": [
    {
     "name": "stdout",
     "output_type": "stream",
     "text": [
      "A0S7/\r\n",
      "A1AB/\r\n",
      "A2LA/\r\n",
      "A2OE/\r\n",
      "A2PC/\r\n",
      "A3I6/\r\n",
      "A3IV/\r\n",
      "A3MH/\r\n",
      "A3SL/\r\n",
      "A3WX/\r\n"
     ]
    }
   ],
   "source": [
    "ls -1 data-cache2/cached-variants/ | head"
   ]
  },
  {
   "cell_type": "markdown",
   "metadata": {},
   "source": [
    "We can also now check our data-source summary to ensure that all cached data were prepared in the same environment."
   ]
  },
  {
   "cell_type": "code",
   "execution_count": 233,
   "metadata": {
    "collapsed": false
   },
   "outputs": [
    {
     "data": {
      "text/plain": [
       "{'dataframe_hash': -2509365845797989729,\n",
       " 'provenance_file_summary': {u'cohorts': u'0.2.0+6.g205397b',\n",
       "  u'isovar': u'0.0.6',\n",
       "  u'mhctools': u'0.2.3',\n",
       "  u'numpy': u'1.11.1',\n",
       "  u'pandas': u'0.18.1',\n",
       "  u'pyensembl': u'0.9.7',\n",
       "  u'scipy': u'0.17.1',\n",
       "  u'topiary': u'0.0.21',\n",
       "  u'varcode': u'0.4.14'}}"
      ]
     },
     "execution_count": 233,
     "metadata": {},
     "output_type": "execute_result"
    }
   ],
   "source": [
    "blca_cohort2.summarize_data_sources()"
   ]
  },
  {
   "cell_type": "markdown",
   "metadata": {},
   "source": [
    "The next time these data are used, the provenance_file_summary will be updated."
   ]
  },
  {
   "cell_type": "markdown",
   "metadata": {},
   "source": [
    "## Summary and next steps"
   ]
  },
  {
   "cell_type": "markdown",
   "metadata": {},
   "source": [
    "We can now start to see some of the utility of `Cohorts` for managing clinical + somatic mutation data.\n",
    "\n",
    "But, there is more to come. \n",
    "\n",
    "Next up: advanced features (filters) & the dataframe_loader \n"
   ]
  }
 ],
 "metadata": {
  "kernelspec": {
   "display_name": "Python 2",
   "language": "python",
   "name": "python2"
  },
  "language_info": {
   "codemirror_mode": {
    "name": "ipython",
    "version": 2
   },
   "file_extension": ".py",
   "mimetype": "text/x-python",
   "name": "python",
   "nbconvert_exporter": "python",
   "pygments_lexer": "ipython2",
   "version": "2.7.12"
  }
 },
 "nbformat": 4,
 "nbformat_minor": 0
}
